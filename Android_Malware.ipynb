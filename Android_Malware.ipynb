{
  "nbformat": 4,
  "nbformat_minor": 0,
  "metadata": {
    "colab": {
      "provenance": [],
      "gpuType": "T4"
    },
    "kernelspec": {
      "name": "python3",
      "display_name": "Python 3"
    },
    "language_info": {
      "name": "python"
    },
    "accelerator": "GPU"
  },
  "cells": [
    {
      "cell_type": "code",
      "execution_count": null,
      "metadata": {
        "id": "m-TdaZoiaiga",
        "colab": {
          "base_uri": "https://localhost:8080/"
        },
        "outputId": "e4b2e547-4581-42bc-a7eb-7c98e66a53b5"
      },
      "outputs": [
        {
          "output_type": "stream",
          "name": "stdout",
          "text": [
            "Collecting scikit-plot\n",
            "  Downloading scikit_plot-0.3.7-py3-none-any.whl (33 kB)\n",
            "Requirement already satisfied: matplotlib>=1.4.0 in /usr/local/lib/python3.10/dist-packages (from scikit-plot) (3.7.1)\n",
            "Requirement already satisfied: scikit-learn>=0.18 in /usr/local/lib/python3.10/dist-packages (from scikit-plot) (1.2.2)\n",
            "Requirement already satisfied: scipy>=0.9 in /usr/local/lib/python3.10/dist-packages (from scikit-plot) (1.11.4)\n",
            "Requirement already satisfied: joblib>=0.10 in /usr/local/lib/python3.10/dist-packages (from scikit-plot) (1.3.2)\n",
            "Requirement already satisfied: contourpy>=1.0.1 in /usr/local/lib/python3.10/dist-packages (from matplotlib>=1.4.0->scikit-plot) (1.2.0)\n",
            "Requirement already satisfied: cycler>=0.10 in /usr/local/lib/python3.10/dist-packages (from matplotlib>=1.4.0->scikit-plot) (0.12.1)\n",
            "Requirement already satisfied: fonttools>=4.22.0 in /usr/local/lib/python3.10/dist-packages (from matplotlib>=1.4.0->scikit-plot) (4.46.0)\n",
            "Requirement already satisfied: kiwisolver>=1.0.1 in /usr/local/lib/python3.10/dist-packages (from matplotlib>=1.4.0->scikit-plot) (1.4.5)\n",
            "Requirement already satisfied: numpy>=1.20 in /usr/local/lib/python3.10/dist-packages (from matplotlib>=1.4.0->scikit-plot) (1.23.5)\n",
            "Requirement already satisfied: packaging>=20.0 in /usr/local/lib/python3.10/dist-packages (from matplotlib>=1.4.0->scikit-plot) (23.2)\n",
            "Requirement already satisfied: pillow>=6.2.0 in /usr/local/lib/python3.10/dist-packages (from matplotlib>=1.4.0->scikit-plot) (9.4.0)\n",
            "Requirement already satisfied: pyparsing>=2.3.1 in /usr/local/lib/python3.10/dist-packages (from matplotlib>=1.4.0->scikit-plot) (3.1.1)\n",
            "Requirement already satisfied: python-dateutil>=2.7 in /usr/local/lib/python3.10/dist-packages (from matplotlib>=1.4.0->scikit-plot) (2.8.2)\n",
            "Requirement already satisfied: threadpoolctl>=2.0.0 in /usr/local/lib/python3.10/dist-packages (from scikit-learn>=0.18->scikit-plot) (3.2.0)\n",
            "Requirement already satisfied: six>=1.5 in /usr/local/lib/python3.10/dist-packages (from python-dateutil>=2.7->matplotlib>=1.4.0->scikit-plot) (1.16.0)\n",
            "Installing collected packages: scikit-plot\n",
            "Successfully installed scikit-plot-0.3.7\n"
          ]
        }
      ],
      "source": [
        "import numpy as np\n",
        "import pandas as pd\n",
        "import seaborn as sns\n",
        "import matplotlib.pyplot as plt\n",
        "from tabulate import tabulate\n",
        "import tensorflow as tf\n",
        "from sklearn.feature_selection import SelectKBest, f_classif, mutual_info_classif\n",
        "from sklearn.model_selection import train_test_split, GridSearchCV, StratifiedKFold, cross_val_score\n",
        "from sklearn.metrics import accuracy_score, precision_score, recall_score, f1_score, roc_auc_score, confusion_matrix, classification_report\n",
        "from sklearn.ensemble import RandomForestClassifier\n",
        "from sklearn.neighbors import KNeighborsClassifier\n",
        "from sklearn.linear_model import LogisticRegression\n",
        "from sklearn.svm import SVC\n",
        "from sklearn.naive_bayes import GaussianNB\n",
        "from xgboost import XGBClassifier\n",
        "from tensorflow.keras.models import Sequential\n",
        "from tensorflow.keras.optimizers import Adam\n",
        "from tensorflow.keras.layers import Embedding, LSTM, GlobalAveragePooling2D, Flatten, Dense, Dropout, Conv1D, MaxPool1D, BatchNormalization\n",
        "from keras.utils import to_categorical\n",
        "!pip install scikit-plot\n",
        "import scikitplot"
      ]
    },
    {
      "cell_type": "code",
      "source": [
        "import warnings\n",
        "warnings.filterwarnings('ignore')"
      ],
      "metadata": {
        "id": "S37DZASHGszm"
      },
      "execution_count": null,
      "outputs": []
    },
    {
      "cell_type": "code",
      "source": [
        "from google.colab import drive\n",
        "drive.mount('/content/drive')"
      ],
      "metadata": {
        "id": "8_5KsBapsTaU",
        "colab": {
          "base_uri": "https://localhost:8080/"
        },
        "outputId": "fa1cfed6-6a12-4ecd-ec07-7679e402b513"
      },
      "execution_count": null,
      "outputs": [
        {
          "output_type": "stream",
          "name": "stdout",
          "text": [
            "Mounted at /content/drive\n"
          ]
        }
      ]
    },
    {
      "cell_type": "code",
      "source": [
        "# 470 extracted features for 11,598 APK files comprising frequencies of system calls, binders, and composite behaviors\n",
        "df = pd.read_csv('/content/drive/MyDrive/CyberSec_Project_Data/feature_vectors_syscallsbinders_frequency_5_Cat.csv') # Dynamically observed behaviors\n",
        "# df = pd.read_csv('/content/drive/MyDrive/Cyber sec project/feature_vectors_syscallsbinders_frequency_5_Cat.csv') # Dynamically observed behaviors"
      ],
      "metadata": {
        "id": "c9Ke584qe-Ht"
      },
      "execution_count": null,
      "outputs": []
    },
    {
      "cell_type": "markdown",
      "source": [
        "# Data Preprocessing"
      ],
      "metadata": {
        "id": "7ewOTzbB9jPf"
      }
    },
    {
      "cell_type": "code",
      "source": [
        "df.head()"
      ],
      "metadata": {
        "id": "vMMssUQLe-Kd",
        "colab": {
          "base_uri": "https://localhost:8080/",
          "height": 256
        },
        "outputId": "e1087b10-3edf-4d7e-b87c-e6e8cde7c1f8"
      },
      "execution_count": null,
      "outputs": [
        {
          "output_type": "execute_result",
          "data": {
            "text/plain": [
              "   ACCESS_PERSONAL_INFO___  ALTER_PHONE_STATE___  ANTI_DEBUG_____  \\\n",
              "0                        1                     0                0   \n",
              "1                        3                     0                0   \n",
              "2                        2                     0                0   \n",
              "3                        1                     0                0   \n",
              "4                        3                     0                0   \n",
              "\n",
              "   CREATE_FOLDER_____  CREATE_PROCESS`_____  CREATE_THREAD_____  \\\n",
              "0                   3                     0                  14   \n",
              "1                   6                     0                  42   \n",
              "2                   4                     0                  23   \n",
              "3                   4                     0                  27   \n",
              "4                  11                     0                  18   \n",
              "\n",
              "   DEVICE_ACCESS_____  EXECUTE_____  FS_ACCESS____  FS_ACCESS()____  ...  \\\n",
              "0                   2             0              3                0  ...   \n",
              "1                  91             0             32                0  ...   \n",
              "2                   3             0             17                2  ...   \n",
              "3                   9             0             36                0  ...   \n",
              "4                   3             0             16                0  ...   \n",
              "\n",
              "   utimes  vfork  vibrate  vibratePattern  wait4  watchRotation  \\\n",
              "0       0      0        0               0      0              0   \n",
              "1       0      0        0               0      0              0   \n",
              "2       0      0        0               0      0              0   \n",
              "3       0      0        0               0      0              0   \n",
              "4       0      0        0               0      0              0   \n",
              "\n",
              "   windowGainedFocus  write  writev  Class  \n",
              "0                  0     37      10      1  \n",
              "1                  2   2838      46      1  \n",
              "2                  1    111      20      1  \n",
              "3                  7    987     197      1  \n",
              "4                  1     98      25      1  \n",
              "\n",
              "[5 rows x 471 columns]"
            ],
            "text/html": [
              "\n",
              "  <div id=\"df-b50a54d7-56eb-49ac-8af9-db8c5b1b84af\" class=\"colab-df-container\">\n",
              "    <div>\n",
              "<style scoped>\n",
              "    .dataframe tbody tr th:only-of-type {\n",
              "        vertical-align: middle;\n",
              "    }\n",
              "\n",
              "    .dataframe tbody tr th {\n",
              "        vertical-align: top;\n",
              "    }\n",
              "\n",
              "    .dataframe thead th {\n",
              "        text-align: right;\n",
              "    }\n",
              "</style>\n",
              "<table border=\"1\" class=\"dataframe\">\n",
              "  <thead>\n",
              "    <tr style=\"text-align: right;\">\n",
              "      <th></th>\n",
              "      <th>ACCESS_PERSONAL_INFO___</th>\n",
              "      <th>ALTER_PHONE_STATE___</th>\n",
              "      <th>ANTI_DEBUG_____</th>\n",
              "      <th>CREATE_FOLDER_____</th>\n",
              "      <th>CREATE_PROCESS`_____</th>\n",
              "      <th>CREATE_THREAD_____</th>\n",
              "      <th>DEVICE_ACCESS_____</th>\n",
              "      <th>EXECUTE_____</th>\n",
              "      <th>FS_ACCESS____</th>\n",
              "      <th>FS_ACCESS()____</th>\n",
              "      <th>...</th>\n",
              "      <th>utimes</th>\n",
              "      <th>vfork</th>\n",
              "      <th>vibrate</th>\n",
              "      <th>vibratePattern</th>\n",
              "      <th>wait4</th>\n",
              "      <th>watchRotation</th>\n",
              "      <th>windowGainedFocus</th>\n",
              "      <th>write</th>\n",
              "      <th>writev</th>\n",
              "      <th>Class</th>\n",
              "    </tr>\n",
              "  </thead>\n",
              "  <tbody>\n",
              "    <tr>\n",
              "      <th>0</th>\n",
              "      <td>1</td>\n",
              "      <td>0</td>\n",
              "      <td>0</td>\n",
              "      <td>3</td>\n",
              "      <td>0</td>\n",
              "      <td>14</td>\n",
              "      <td>2</td>\n",
              "      <td>0</td>\n",
              "      <td>3</td>\n",
              "      <td>0</td>\n",
              "      <td>...</td>\n",
              "      <td>0</td>\n",
              "      <td>0</td>\n",
              "      <td>0</td>\n",
              "      <td>0</td>\n",
              "      <td>0</td>\n",
              "      <td>0</td>\n",
              "      <td>0</td>\n",
              "      <td>37</td>\n",
              "      <td>10</td>\n",
              "      <td>1</td>\n",
              "    </tr>\n",
              "    <tr>\n",
              "      <th>1</th>\n",
              "      <td>3</td>\n",
              "      <td>0</td>\n",
              "      <td>0</td>\n",
              "      <td>6</td>\n",
              "      <td>0</td>\n",
              "      <td>42</td>\n",
              "      <td>91</td>\n",
              "      <td>0</td>\n",
              "      <td>32</td>\n",
              "      <td>0</td>\n",
              "      <td>...</td>\n",
              "      <td>0</td>\n",
              "      <td>0</td>\n",
              "      <td>0</td>\n",
              "      <td>0</td>\n",
              "      <td>0</td>\n",
              "      <td>0</td>\n",
              "      <td>2</td>\n",
              "      <td>2838</td>\n",
              "      <td>46</td>\n",
              "      <td>1</td>\n",
              "    </tr>\n",
              "    <tr>\n",
              "      <th>2</th>\n",
              "      <td>2</td>\n",
              "      <td>0</td>\n",
              "      <td>0</td>\n",
              "      <td>4</td>\n",
              "      <td>0</td>\n",
              "      <td>23</td>\n",
              "      <td>3</td>\n",
              "      <td>0</td>\n",
              "      <td>17</td>\n",
              "      <td>2</td>\n",
              "      <td>...</td>\n",
              "      <td>0</td>\n",
              "      <td>0</td>\n",
              "      <td>0</td>\n",
              "      <td>0</td>\n",
              "      <td>0</td>\n",
              "      <td>0</td>\n",
              "      <td>1</td>\n",
              "      <td>111</td>\n",
              "      <td>20</td>\n",
              "      <td>1</td>\n",
              "    </tr>\n",
              "    <tr>\n",
              "      <th>3</th>\n",
              "      <td>1</td>\n",
              "      <td>0</td>\n",
              "      <td>0</td>\n",
              "      <td>4</td>\n",
              "      <td>0</td>\n",
              "      <td>27</td>\n",
              "      <td>9</td>\n",
              "      <td>0</td>\n",
              "      <td>36</td>\n",
              "      <td>0</td>\n",
              "      <td>...</td>\n",
              "      <td>0</td>\n",
              "      <td>0</td>\n",
              "      <td>0</td>\n",
              "      <td>0</td>\n",
              "      <td>0</td>\n",
              "      <td>0</td>\n",
              "      <td>7</td>\n",
              "      <td>987</td>\n",
              "      <td>197</td>\n",
              "      <td>1</td>\n",
              "    </tr>\n",
              "    <tr>\n",
              "      <th>4</th>\n",
              "      <td>3</td>\n",
              "      <td>0</td>\n",
              "      <td>0</td>\n",
              "      <td>11</td>\n",
              "      <td>0</td>\n",
              "      <td>18</td>\n",
              "      <td>3</td>\n",
              "      <td>0</td>\n",
              "      <td>16</td>\n",
              "      <td>0</td>\n",
              "      <td>...</td>\n",
              "      <td>0</td>\n",
              "      <td>0</td>\n",
              "      <td>0</td>\n",
              "      <td>0</td>\n",
              "      <td>0</td>\n",
              "      <td>0</td>\n",
              "      <td>1</td>\n",
              "      <td>98</td>\n",
              "      <td>25</td>\n",
              "      <td>1</td>\n",
              "    </tr>\n",
              "  </tbody>\n",
              "</table>\n",
              "<p>5 rows × 471 columns</p>\n",
              "</div>\n",
              "    <div class=\"colab-df-buttons\">\n",
              "\n",
              "  <div class=\"colab-df-container\">\n",
              "    <button class=\"colab-df-convert\" onclick=\"convertToInteractive('df-b50a54d7-56eb-49ac-8af9-db8c5b1b84af')\"\n",
              "            title=\"Convert this dataframe to an interactive table.\"\n",
              "            style=\"display:none;\">\n",
              "\n",
              "  <svg xmlns=\"http://www.w3.org/2000/svg\" height=\"24px\" viewBox=\"0 -960 960 960\">\n",
              "    <path d=\"M120-120v-720h720v720H120Zm60-500h600v-160H180v160Zm220 220h160v-160H400v160Zm0 220h160v-160H400v160ZM180-400h160v-160H180v160Zm440 0h160v-160H620v160ZM180-180h160v-160H180v160Zm440 0h160v-160H620v160Z\"/>\n",
              "  </svg>\n",
              "    </button>\n",
              "\n",
              "  <style>\n",
              "    .colab-df-container {\n",
              "      display:flex;\n",
              "      gap: 12px;\n",
              "    }\n",
              "\n",
              "    .colab-df-convert {\n",
              "      background-color: #E8F0FE;\n",
              "      border: none;\n",
              "      border-radius: 50%;\n",
              "      cursor: pointer;\n",
              "      display: none;\n",
              "      fill: #1967D2;\n",
              "      height: 32px;\n",
              "      padding: 0 0 0 0;\n",
              "      width: 32px;\n",
              "    }\n",
              "\n",
              "    .colab-df-convert:hover {\n",
              "      background-color: #E2EBFA;\n",
              "      box-shadow: 0px 1px 2px rgba(60, 64, 67, 0.3), 0px 1px 3px 1px rgba(60, 64, 67, 0.15);\n",
              "      fill: #174EA6;\n",
              "    }\n",
              "\n",
              "    .colab-df-buttons div {\n",
              "      margin-bottom: 4px;\n",
              "    }\n",
              "\n",
              "    [theme=dark] .colab-df-convert {\n",
              "      background-color: #3B4455;\n",
              "      fill: #D2E3FC;\n",
              "    }\n",
              "\n",
              "    [theme=dark] .colab-df-convert:hover {\n",
              "      background-color: #434B5C;\n",
              "      box-shadow: 0px 1px 3px 1px rgba(0, 0, 0, 0.15);\n",
              "      filter: drop-shadow(0px 1px 2px rgba(0, 0, 0, 0.3));\n",
              "      fill: #FFFFFF;\n",
              "    }\n",
              "  </style>\n",
              "\n",
              "    <script>\n",
              "      const buttonEl =\n",
              "        document.querySelector('#df-b50a54d7-56eb-49ac-8af9-db8c5b1b84af button.colab-df-convert');\n",
              "      buttonEl.style.display =\n",
              "        google.colab.kernel.accessAllowed ? 'block' : 'none';\n",
              "\n",
              "      async function convertToInteractive(key) {\n",
              "        const element = document.querySelector('#df-b50a54d7-56eb-49ac-8af9-db8c5b1b84af');\n",
              "        const dataTable =\n",
              "          await google.colab.kernel.invokeFunction('convertToInteractive',\n",
              "                                                    [key], {});\n",
              "        if (!dataTable) return;\n",
              "\n",
              "        const docLinkHtml = 'Like what you see? Visit the ' +\n",
              "          '<a target=\"_blank\" href=https://colab.research.google.com/notebooks/data_table.ipynb>data table notebook</a>'\n",
              "          + ' to learn more about interactive tables.';\n",
              "        element.innerHTML = '';\n",
              "        dataTable['output_type'] = 'display_data';\n",
              "        await google.colab.output.renderOutput(dataTable, element);\n",
              "        const docLink = document.createElement('div');\n",
              "        docLink.innerHTML = docLinkHtml;\n",
              "        element.appendChild(docLink);\n",
              "      }\n",
              "    </script>\n",
              "  </div>\n",
              "\n",
              "\n",
              "<div id=\"df-283e033d-2fdd-42bd-b551-3e96409af5cd\">\n",
              "  <button class=\"colab-df-quickchart\" onclick=\"quickchart('df-283e033d-2fdd-42bd-b551-3e96409af5cd')\"\n",
              "            title=\"Suggest charts\"\n",
              "            style=\"display:none;\">\n",
              "\n",
              "<svg xmlns=\"http://www.w3.org/2000/svg\" height=\"24px\"viewBox=\"0 0 24 24\"\n",
              "     width=\"24px\">\n",
              "    <g>\n",
              "        <path d=\"M19 3H5c-1.1 0-2 .9-2 2v14c0 1.1.9 2 2 2h14c1.1 0 2-.9 2-2V5c0-1.1-.9-2-2-2zM9 17H7v-7h2v7zm4 0h-2V7h2v10zm4 0h-2v-4h2v4z\"/>\n",
              "    </g>\n",
              "</svg>\n",
              "  </button>\n",
              "\n",
              "<style>\n",
              "  .colab-df-quickchart {\n",
              "      --bg-color: #E8F0FE;\n",
              "      --fill-color: #1967D2;\n",
              "      --hover-bg-color: #E2EBFA;\n",
              "      --hover-fill-color: #174EA6;\n",
              "      --disabled-fill-color: #AAA;\n",
              "      --disabled-bg-color: #DDD;\n",
              "  }\n",
              "\n",
              "  [theme=dark] .colab-df-quickchart {\n",
              "      --bg-color: #3B4455;\n",
              "      --fill-color: #D2E3FC;\n",
              "      --hover-bg-color: #434B5C;\n",
              "      --hover-fill-color: #FFFFFF;\n",
              "      --disabled-bg-color: #3B4455;\n",
              "      --disabled-fill-color: #666;\n",
              "  }\n",
              "\n",
              "  .colab-df-quickchart {\n",
              "    background-color: var(--bg-color);\n",
              "    border: none;\n",
              "    border-radius: 50%;\n",
              "    cursor: pointer;\n",
              "    display: none;\n",
              "    fill: var(--fill-color);\n",
              "    height: 32px;\n",
              "    padding: 0;\n",
              "    width: 32px;\n",
              "  }\n",
              "\n",
              "  .colab-df-quickchart:hover {\n",
              "    background-color: var(--hover-bg-color);\n",
              "    box-shadow: 0 1px 2px rgba(60, 64, 67, 0.3), 0 1px 3px 1px rgba(60, 64, 67, 0.15);\n",
              "    fill: var(--button-hover-fill-color);\n",
              "  }\n",
              "\n",
              "  .colab-df-quickchart-complete:disabled,\n",
              "  .colab-df-quickchart-complete:disabled:hover {\n",
              "    background-color: var(--disabled-bg-color);\n",
              "    fill: var(--disabled-fill-color);\n",
              "    box-shadow: none;\n",
              "  }\n",
              "\n",
              "  .colab-df-spinner {\n",
              "    border: 2px solid var(--fill-color);\n",
              "    border-color: transparent;\n",
              "    border-bottom-color: var(--fill-color);\n",
              "    animation:\n",
              "      spin 1s steps(1) infinite;\n",
              "  }\n",
              "\n",
              "  @keyframes spin {\n",
              "    0% {\n",
              "      border-color: transparent;\n",
              "      border-bottom-color: var(--fill-color);\n",
              "      border-left-color: var(--fill-color);\n",
              "    }\n",
              "    20% {\n",
              "      border-color: transparent;\n",
              "      border-left-color: var(--fill-color);\n",
              "      border-top-color: var(--fill-color);\n",
              "    }\n",
              "    30% {\n",
              "      border-color: transparent;\n",
              "      border-left-color: var(--fill-color);\n",
              "      border-top-color: var(--fill-color);\n",
              "      border-right-color: var(--fill-color);\n",
              "    }\n",
              "    40% {\n",
              "      border-color: transparent;\n",
              "      border-right-color: var(--fill-color);\n",
              "      border-top-color: var(--fill-color);\n",
              "    }\n",
              "    60% {\n",
              "      border-color: transparent;\n",
              "      border-right-color: var(--fill-color);\n",
              "    }\n",
              "    80% {\n",
              "      border-color: transparent;\n",
              "      border-right-color: var(--fill-color);\n",
              "      border-bottom-color: var(--fill-color);\n",
              "    }\n",
              "    90% {\n",
              "      border-color: transparent;\n",
              "      border-bottom-color: var(--fill-color);\n",
              "    }\n",
              "  }\n",
              "</style>\n",
              "\n",
              "  <script>\n",
              "    async function quickchart(key) {\n",
              "      const quickchartButtonEl =\n",
              "        document.querySelector('#' + key + ' button');\n",
              "      quickchartButtonEl.disabled = true;  // To prevent multiple clicks.\n",
              "      quickchartButtonEl.classList.add('colab-df-spinner');\n",
              "      try {\n",
              "        const charts = await google.colab.kernel.invokeFunction(\n",
              "            'suggestCharts', [key], {});\n",
              "      } catch (error) {\n",
              "        console.error('Error during call to suggestCharts:', error);\n",
              "      }\n",
              "      quickchartButtonEl.classList.remove('colab-df-spinner');\n",
              "      quickchartButtonEl.classList.add('colab-df-quickchart-complete');\n",
              "    }\n",
              "    (() => {\n",
              "      let quickchartButtonEl =\n",
              "        document.querySelector('#df-283e033d-2fdd-42bd-b551-3e96409af5cd button');\n",
              "      quickchartButtonEl.style.display =\n",
              "        google.colab.kernel.accessAllowed ? 'block' : 'none';\n",
              "    })();\n",
              "  </script>\n",
              "</div>\n",
              "    </div>\n",
              "  </div>\n"
            ]
          },
          "metadata": {},
          "execution_count": 5
        }
      ]
    },
    {
      "cell_type": "code",
      "source": [
        "df.shape"
      ],
      "metadata": {
        "id": "ceWuyl_Qe-NU",
        "colab": {
          "base_uri": "https://localhost:8080/"
        },
        "outputId": "44b222db-d171-4943-87b7-42fd0d6f8cf3"
      },
      "execution_count": null,
      "outputs": [
        {
          "output_type": "execute_result",
          "data": {
            "text/plain": [
              "(11598, 471)"
            ]
          },
          "metadata": {},
          "execution_count": 6
        }
      ]
    },
    {
      "cell_type": "code",
      "source": [
        "df.dtypes"
      ],
      "metadata": {
        "id": "IEMTzS_rfN44",
        "colab": {
          "base_uri": "https://localhost:8080/"
        },
        "outputId": "1856ec93-4797-4cbb-d5c5-dbacebabca77"
      },
      "execution_count": null,
      "outputs": [
        {
          "output_type": "execute_result",
          "data": {
            "text/plain": [
              "ACCESS_PERSONAL_INFO___    int64\n",
              "ALTER_PHONE_STATE___       int64\n",
              "ANTI_DEBUG_____            int64\n",
              "CREATE_FOLDER_____         int64\n",
              "CREATE_PROCESS`_____       int64\n",
              "                           ...  \n",
              "watchRotation              int64\n",
              "windowGainedFocus          int64\n",
              "write                      int64\n",
              "writev                     int64\n",
              "Class                      int64\n",
              "Length: 471, dtype: object"
            ]
          },
          "metadata": {},
          "execution_count": 7
        }
      ]
    },
    {
      "cell_type": "code",
      "source": [
        "df.describe()"
      ],
      "metadata": {
        "id": "DByPhWQKfjNr",
        "colab": {
          "base_uri": "https://localhost:8080/",
          "height": 350
        },
        "outputId": "2490b2f7-84b8-46bb-adc5-da0638db5fff"
      },
      "execution_count": null,
      "outputs": [
        {
          "output_type": "execute_result",
          "data": {
            "text/plain": [
              "       ACCESS_PERSONAL_INFO___  ALTER_PHONE_STATE___  ANTI_DEBUG_____  \\\n",
              "count             11598.000000          11598.000000     11598.000000   \n",
              "mean                 57.435334              0.001207         0.044577   \n",
              "std                 444.149233              0.055703         1.104287   \n",
              "min                   0.000000              0.000000         0.000000   \n",
              "25%                   0.000000              0.000000         0.000000   \n",
              "50%                   2.000000              0.000000         0.000000   \n",
              "75%                   8.000000              0.000000         0.000000   \n",
              "max                7647.000000              5.000000        91.000000   \n",
              "\n",
              "       CREATE_FOLDER_____  CREATE_PROCESS`_____  CREATE_THREAD_____  \\\n",
              "count        11598.000000          11598.000000        11598.000000   \n",
              "mean             5.781342              0.983877           29.770391   \n",
              "std             10.380946              4.061886           32.170379   \n",
              "min              0.000000              0.000000            0.000000   \n",
              "25%              2.000000              0.000000           10.000000   \n",
              "50%              3.000000              0.000000           17.000000   \n",
              "75%              6.000000              0.000000           39.000000   \n",
              "max            700.000000            140.000000         1332.000000   \n",
              "\n",
              "       DEVICE_ACCESS_____  EXECUTE_____  FS_ACCESS____  FS_ACCESS()____  ...  \\\n",
              "count        11598.000000   11598.00000   11598.000000     11598.000000  ...   \n",
              "mean            29.641749       2.25125      73.661493         6.688395  ...   \n",
              "std            267.652850       9.86903     219.079872        20.050449  ...   \n",
              "min              0.000000       0.00000       0.000000         0.000000  ...   \n",
              "25%              2.000000       0.00000       8.000000         0.000000  ...   \n",
              "50%              3.000000       0.00000      20.000000         1.000000  ...   \n",
              "75%             21.000000       0.00000      52.000000         4.000000  ...   \n",
              "max          26631.000000     399.00000    8380.000000      1192.000000  ...   \n",
              "\n",
              "             utimes         vfork       vibrate  vibratePattern         wait4  \\\n",
              "count  11598.000000  11598.000000  11598.000000    11598.000000  11598.000000   \n",
              "mean       0.093292      2.232454      0.001811        0.000690      6.453958   \n",
              "std        1.808335     15.691146      0.070084        0.029357    164.278529   \n",
              "min        0.000000      0.000000      0.000000        0.000000      0.000000   \n",
              "25%        0.000000      0.000000      0.000000        0.000000      0.000000   \n",
              "50%        0.000000      0.000000      0.000000        0.000000      0.000000   \n",
              "75%        0.000000      0.000000      0.000000        0.000000      0.000000   \n",
              "max      113.000000    117.000000      6.000000        2.000000  17431.000000   \n",
              "\n",
              "       watchRotation  windowGainedFocus          write        writev  \\\n",
              "count   11598.000000       11598.000000   11598.000000  1.159800e+04   \n",
              "mean        0.000690           1.647870    1071.197362  1.039598e+03   \n",
              "std         0.026256           9.927242    6151.477714  1.712849e+04   \n",
              "min         0.000000           0.000000       0.000000  0.000000e+00   \n",
              "25%         0.000000           0.000000      71.000000  1.200000e+01   \n",
              "50%         0.000000           1.000000     256.000000  4.400000e+01   \n",
              "75%         0.000000           2.000000    1142.750000  1.440000e+02   \n",
              "max         1.000000        1042.000000  490069.000000  1.301356e+06   \n",
              "\n",
              "              Class  \n",
              "count  11598.000000  \n",
              "mean       3.131919  \n",
              "std        1.197716  \n",
              "min        1.000000  \n",
              "25%        2.000000  \n",
              "50%        3.000000  \n",
              "75%        4.000000  \n",
              "max        5.000000  \n",
              "\n",
              "[8 rows x 471 columns]"
            ],
            "text/html": [
              "\n",
              "  <div id=\"df-aca8ed7b-4929-4bba-a722-3da493ea78f8\" class=\"colab-df-container\">\n",
              "    <div>\n",
              "<style scoped>\n",
              "    .dataframe tbody tr th:only-of-type {\n",
              "        vertical-align: middle;\n",
              "    }\n",
              "\n",
              "    .dataframe tbody tr th {\n",
              "        vertical-align: top;\n",
              "    }\n",
              "\n",
              "    .dataframe thead th {\n",
              "        text-align: right;\n",
              "    }\n",
              "</style>\n",
              "<table border=\"1\" class=\"dataframe\">\n",
              "  <thead>\n",
              "    <tr style=\"text-align: right;\">\n",
              "      <th></th>\n",
              "      <th>ACCESS_PERSONAL_INFO___</th>\n",
              "      <th>ALTER_PHONE_STATE___</th>\n",
              "      <th>ANTI_DEBUG_____</th>\n",
              "      <th>CREATE_FOLDER_____</th>\n",
              "      <th>CREATE_PROCESS`_____</th>\n",
              "      <th>CREATE_THREAD_____</th>\n",
              "      <th>DEVICE_ACCESS_____</th>\n",
              "      <th>EXECUTE_____</th>\n",
              "      <th>FS_ACCESS____</th>\n",
              "      <th>FS_ACCESS()____</th>\n",
              "      <th>...</th>\n",
              "      <th>utimes</th>\n",
              "      <th>vfork</th>\n",
              "      <th>vibrate</th>\n",
              "      <th>vibratePattern</th>\n",
              "      <th>wait4</th>\n",
              "      <th>watchRotation</th>\n",
              "      <th>windowGainedFocus</th>\n",
              "      <th>write</th>\n",
              "      <th>writev</th>\n",
              "      <th>Class</th>\n",
              "    </tr>\n",
              "  </thead>\n",
              "  <tbody>\n",
              "    <tr>\n",
              "      <th>count</th>\n",
              "      <td>11598.000000</td>\n",
              "      <td>11598.000000</td>\n",
              "      <td>11598.000000</td>\n",
              "      <td>11598.000000</td>\n",
              "      <td>11598.000000</td>\n",
              "      <td>11598.000000</td>\n",
              "      <td>11598.000000</td>\n",
              "      <td>11598.00000</td>\n",
              "      <td>11598.000000</td>\n",
              "      <td>11598.000000</td>\n",
              "      <td>...</td>\n",
              "      <td>11598.000000</td>\n",
              "      <td>11598.000000</td>\n",
              "      <td>11598.000000</td>\n",
              "      <td>11598.000000</td>\n",
              "      <td>11598.000000</td>\n",
              "      <td>11598.000000</td>\n",
              "      <td>11598.000000</td>\n",
              "      <td>11598.000000</td>\n",
              "      <td>1.159800e+04</td>\n",
              "      <td>11598.000000</td>\n",
              "    </tr>\n",
              "    <tr>\n",
              "      <th>mean</th>\n",
              "      <td>57.435334</td>\n",
              "      <td>0.001207</td>\n",
              "      <td>0.044577</td>\n",
              "      <td>5.781342</td>\n",
              "      <td>0.983877</td>\n",
              "      <td>29.770391</td>\n",
              "      <td>29.641749</td>\n",
              "      <td>2.25125</td>\n",
              "      <td>73.661493</td>\n",
              "      <td>6.688395</td>\n",
              "      <td>...</td>\n",
              "      <td>0.093292</td>\n",
              "      <td>2.232454</td>\n",
              "      <td>0.001811</td>\n",
              "      <td>0.000690</td>\n",
              "      <td>6.453958</td>\n",
              "      <td>0.000690</td>\n",
              "      <td>1.647870</td>\n",
              "      <td>1071.197362</td>\n",
              "      <td>1.039598e+03</td>\n",
              "      <td>3.131919</td>\n",
              "    </tr>\n",
              "    <tr>\n",
              "      <th>std</th>\n",
              "      <td>444.149233</td>\n",
              "      <td>0.055703</td>\n",
              "      <td>1.104287</td>\n",
              "      <td>10.380946</td>\n",
              "      <td>4.061886</td>\n",
              "      <td>32.170379</td>\n",
              "      <td>267.652850</td>\n",
              "      <td>9.86903</td>\n",
              "      <td>219.079872</td>\n",
              "      <td>20.050449</td>\n",
              "      <td>...</td>\n",
              "      <td>1.808335</td>\n",
              "      <td>15.691146</td>\n",
              "      <td>0.070084</td>\n",
              "      <td>0.029357</td>\n",
              "      <td>164.278529</td>\n",
              "      <td>0.026256</td>\n",
              "      <td>9.927242</td>\n",
              "      <td>6151.477714</td>\n",
              "      <td>1.712849e+04</td>\n",
              "      <td>1.197716</td>\n",
              "    </tr>\n",
              "    <tr>\n",
              "      <th>min</th>\n",
              "      <td>0.000000</td>\n",
              "      <td>0.000000</td>\n",
              "      <td>0.000000</td>\n",
              "      <td>0.000000</td>\n",
              "      <td>0.000000</td>\n",
              "      <td>0.000000</td>\n",
              "      <td>0.000000</td>\n",
              "      <td>0.00000</td>\n",
              "      <td>0.000000</td>\n",
              "      <td>0.000000</td>\n",
              "      <td>...</td>\n",
              "      <td>0.000000</td>\n",
              "      <td>0.000000</td>\n",
              "      <td>0.000000</td>\n",
              "      <td>0.000000</td>\n",
              "      <td>0.000000</td>\n",
              "      <td>0.000000</td>\n",
              "      <td>0.000000</td>\n",
              "      <td>0.000000</td>\n",
              "      <td>0.000000e+00</td>\n",
              "      <td>1.000000</td>\n",
              "    </tr>\n",
              "    <tr>\n",
              "      <th>25%</th>\n",
              "      <td>0.000000</td>\n",
              "      <td>0.000000</td>\n",
              "      <td>0.000000</td>\n",
              "      <td>2.000000</td>\n",
              "      <td>0.000000</td>\n",
              "      <td>10.000000</td>\n",
              "      <td>2.000000</td>\n",
              "      <td>0.00000</td>\n",
              "      <td>8.000000</td>\n",
              "      <td>0.000000</td>\n",
              "      <td>...</td>\n",
              "      <td>0.000000</td>\n",
              "      <td>0.000000</td>\n",
              "      <td>0.000000</td>\n",
              "      <td>0.000000</td>\n",
              "      <td>0.000000</td>\n",
              "      <td>0.000000</td>\n",
              "      <td>0.000000</td>\n",
              "      <td>71.000000</td>\n",
              "      <td>1.200000e+01</td>\n",
              "      <td>2.000000</td>\n",
              "    </tr>\n",
              "    <tr>\n",
              "      <th>50%</th>\n",
              "      <td>2.000000</td>\n",
              "      <td>0.000000</td>\n",
              "      <td>0.000000</td>\n",
              "      <td>3.000000</td>\n",
              "      <td>0.000000</td>\n",
              "      <td>17.000000</td>\n",
              "      <td>3.000000</td>\n",
              "      <td>0.00000</td>\n",
              "      <td>20.000000</td>\n",
              "      <td>1.000000</td>\n",
              "      <td>...</td>\n",
              "      <td>0.000000</td>\n",
              "      <td>0.000000</td>\n",
              "      <td>0.000000</td>\n",
              "      <td>0.000000</td>\n",
              "      <td>0.000000</td>\n",
              "      <td>0.000000</td>\n",
              "      <td>1.000000</td>\n",
              "      <td>256.000000</td>\n",
              "      <td>4.400000e+01</td>\n",
              "      <td>3.000000</td>\n",
              "    </tr>\n",
              "    <tr>\n",
              "      <th>75%</th>\n",
              "      <td>8.000000</td>\n",
              "      <td>0.000000</td>\n",
              "      <td>0.000000</td>\n",
              "      <td>6.000000</td>\n",
              "      <td>0.000000</td>\n",
              "      <td>39.000000</td>\n",
              "      <td>21.000000</td>\n",
              "      <td>0.00000</td>\n",
              "      <td>52.000000</td>\n",
              "      <td>4.000000</td>\n",
              "      <td>...</td>\n",
              "      <td>0.000000</td>\n",
              "      <td>0.000000</td>\n",
              "      <td>0.000000</td>\n",
              "      <td>0.000000</td>\n",
              "      <td>0.000000</td>\n",
              "      <td>0.000000</td>\n",
              "      <td>2.000000</td>\n",
              "      <td>1142.750000</td>\n",
              "      <td>1.440000e+02</td>\n",
              "      <td>4.000000</td>\n",
              "    </tr>\n",
              "    <tr>\n",
              "      <th>max</th>\n",
              "      <td>7647.000000</td>\n",
              "      <td>5.000000</td>\n",
              "      <td>91.000000</td>\n",
              "      <td>700.000000</td>\n",
              "      <td>140.000000</td>\n",
              "      <td>1332.000000</td>\n",
              "      <td>26631.000000</td>\n",
              "      <td>399.00000</td>\n",
              "      <td>8380.000000</td>\n",
              "      <td>1192.000000</td>\n",
              "      <td>...</td>\n",
              "      <td>113.000000</td>\n",
              "      <td>117.000000</td>\n",
              "      <td>6.000000</td>\n",
              "      <td>2.000000</td>\n",
              "      <td>17431.000000</td>\n",
              "      <td>1.000000</td>\n",
              "      <td>1042.000000</td>\n",
              "      <td>490069.000000</td>\n",
              "      <td>1.301356e+06</td>\n",
              "      <td>5.000000</td>\n",
              "    </tr>\n",
              "  </tbody>\n",
              "</table>\n",
              "<p>8 rows × 471 columns</p>\n",
              "</div>\n",
              "    <div class=\"colab-df-buttons\">\n",
              "\n",
              "  <div class=\"colab-df-container\">\n",
              "    <button class=\"colab-df-convert\" onclick=\"convertToInteractive('df-aca8ed7b-4929-4bba-a722-3da493ea78f8')\"\n",
              "            title=\"Convert this dataframe to an interactive table.\"\n",
              "            style=\"display:none;\">\n",
              "\n",
              "  <svg xmlns=\"http://www.w3.org/2000/svg\" height=\"24px\" viewBox=\"0 -960 960 960\">\n",
              "    <path d=\"M120-120v-720h720v720H120Zm60-500h600v-160H180v160Zm220 220h160v-160H400v160Zm0 220h160v-160H400v160ZM180-400h160v-160H180v160Zm440 0h160v-160H620v160ZM180-180h160v-160H180v160Zm440 0h160v-160H620v160Z\"/>\n",
              "  </svg>\n",
              "    </button>\n",
              "\n",
              "  <style>\n",
              "    .colab-df-container {\n",
              "      display:flex;\n",
              "      gap: 12px;\n",
              "    }\n",
              "\n",
              "    .colab-df-convert {\n",
              "      background-color: #E8F0FE;\n",
              "      border: none;\n",
              "      border-radius: 50%;\n",
              "      cursor: pointer;\n",
              "      display: none;\n",
              "      fill: #1967D2;\n",
              "      height: 32px;\n",
              "      padding: 0 0 0 0;\n",
              "      width: 32px;\n",
              "    }\n",
              "\n",
              "    .colab-df-convert:hover {\n",
              "      background-color: #E2EBFA;\n",
              "      box-shadow: 0px 1px 2px rgba(60, 64, 67, 0.3), 0px 1px 3px 1px rgba(60, 64, 67, 0.15);\n",
              "      fill: #174EA6;\n",
              "    }\n",
              "\n",
              "    .colab-df-buttons div {\n",
              "      margin-bottom: 4px;\n",
              "    }\n",
              "\n",
              "    [theme=dark] .colab-df-convert {\n",
              "      background-color: #3B4455;\n",
              "      fill: #D2E3FC;\n",
              "    }\n",
              "\n",
              "    [theme=dark] .colab-df-convert:hover {\n",
              "      background-color: #434B5C;\n",
              "      box-shadow: 0px 1px 3px 1px rgba(0, 0, 0, 0.15);\n",
              "      filter: drop-shadow(0px 1px 2px rgba(0, 0, 0, 0.3));\n",
              "      fill: #FFFFFF;\n",
              "    }\n",
              "  </style>\n",
              "\n",
              "    <script>\n",
              "      const buttonEl =\n",
              "        document.querySelector('#df-aca8ed7b-4929-4bba-a722-3da493ea78f8 button.colab-df-convert');\n",
              "      buttonEl.style.display =\n",
              "        google.colab.kernel.accessAllowed ? 'block' : 'none';\n",
              "\n",
              "      async function convertToInteractive(key) {\n",
              "        const element = document.querySelector('#df-aca8ed7b-4929-4bba-a722-3da493ea78f8');\n",
              "        const dataTable =\n",
              "          await google.colab.kernel.invokeFunction('convertToInteractive',\n",
              "                                                    [key], {});\n",
              "        if (!dataTable) return;\n",
              "\n",
              "        const docLinkHtml = 'Like what you see? Visit the ' +\n",
              "          '<a target=\"_blank\" href=https://colab.research.google.com/notebooks/data_table.ipynb>data table notebook</a>'\n",
              "          + ' to learn more about interactive tables.';\n",
              "        element.innerHTML = '';\n",
              "        dataTable['output_type'] = 'display_data';\n",
              "        await google.colab.output.renderOutput(dataTable, element);\n",
              "        const docLink = document.createElement('div');\n",
              "        docLink.innerHTML = docLinkHtml;\n",
              "        element.appendChild(docLink);\n",
              "      }\n",
              "    </script>\n",
              "  </div>\n",
              "\n",
              "\n",
              "<div id=\"df-0f51ea2e-5887-41d4-a96a-25b3df52394d\">\n",
              "  <button class=\"colab-df-quickchart\" onclick=\"quickchart('df-0f51ea2e-5887-41d4-a96a-25b3df52394d')\"\n",
              "            title=\"Suggest charts\"\n",
              "            style=\"display:none;\">\n",
              "\n",
              "<svg xmlns=\"http://www.w3.org/2000/svg\" height=\"24px\"viewBox=\"0 0 24 24\"\n",
              "     width=\"24px\">\n",
              "    <g>\n",
              "        <path d=\"M19 3H5c-1.1 0-2 .9-2 2v14c0 1.1.9 2 2 2h14c1.1 0 2-.9 2-2V5c0-1.1-.9-2-2-2zM9 17H7v-7h2v7zm4 0h-2V7h2v10zm4 0h-2v-4h2v4z\"/>\n",
              "    </g>\n",
              "</svg>\n",
              "  </button>\n",
              "\n",
              "<style>\n",
              "  .colab-df-quickchart {\n",
              "      --bg-color: #E8F0FE;\n",
              "      --fill-color: #1967D2;\n",
              "      --hover-bg-color: #E2EBFA;\n",
              "      --hover-fill-color: #174EA6;\n",
              "      --disabled-fill-color: #AAA;\n",
              "      --disabled-bg-color: #DDD;\n",
              "  }\n",
              "\n",
              "  [theme=dark] .colab-df-quickchart {\n",
              "      --bg-color: #3B4455;\n",
              "      --fill-color: #D2E3FC;\n",
              "      --hover-bg-color: #434B5C;\n",
              "      --hover-fill-color: #FFFFFF;\n",
              "      --disabled-bg-color: #3B4455;\n",
              "      --disabled-fill-color: #666;\n",
              "  }\n",
              "\n",
              "  .colab-df-quickchart {\n",
              "    background-color: var(--bg-color);\n",
              "    border: none;\n",
              "    border-radius: 50%;\n",
              "    cursor: pointer;\n",
              "    display: none;\n",
              "    fill: var(--fill-color);\n",
              "    height: 32px;\n",
              "    padding: 0;\n",
              "    width: 32px;\n",
              "  }\n",
              "\n",
              "  .colab-df-quickchart:hover {\n",
              "    background-color: var(--hover-bg-color);\n",
              "    box-shadow: 0 1px 2px rgba(60, 64, 67, 0.3), 0 1px 3px 1px rgba(60, 64, 67, 0.15);\n",
              "    fill: var(--button-hover-fill-color);\n",
              "  }\n",
              "\n",
              "  .colab-df-quickchart-complete:disabled,\n",
              "  .colab-df-quickchart-complete:disabled:hover {\n",
              "    background-color: var(--disabled-bg-color);\n",
              "    fill: var(--disabled-fill-color);\n",
              "    box-shadow: none;\n",
              "  }\n",
              "\n",
              "  .colab-df-spinner {\n",
              "    border: 2px solid var(--fill-color);\n",
              "    border-color: transparent;\n",
              "    border-bottom-color: var(--fill-color);\n",
              "    animation:\n",
              "      spin 1s steps(1) infinite;\n",
              "  }\n",
              "\n",
              "  @keyframes spin {\n",
              "    0% {\n",
              "      border-color: transparent;\n",
              "      border-bottom-color: var(--fill-color);\n",
              "      border-left-color: var(--fill-color);\n",
              "    }\n",
              "    20% {\n",
              "      border-color: transparent;\n",
              "      border-left-color: var(--fill-color);\n",
              "      border-top-color: var(--fill-color);\n",
              "    }\n",
              "    30% {\n",
              "      border-color: transparent;\n",
              "      border-left-color: var(--fill-color);\n",
              "      border-top-color: var(--fill-color);\n",
              "      border-right-color: var(--fill-color);\n",
              "    }\n",
              "    40% {\n",
              "      border-color: transparent;\n",
              "      border-right-color: var(--fill-color);\n",
              "      border-top-color: var(--fill-color);\n",
              "    }\n",
              "    60% {\n",
              "      border-color: transparent;\n",
              "      border-right-color: var(--fill-color);\n",
              "    }\n",
              "    80% {\n",
              "      border-color: transparent;\n",
              "      border-right-color: var(--fill-color);\n",
              "      border-bottom-color: var(--fill-color);\n",
              "    }\n",
              "    90% {\n",
              "      border-color: transparent;\n",
              "      border-bottom-color: var(--fill-color);\n",
              "    }\n",
              "  }\n",
              "</style>\n",
              "\n",
              "  <script>\n",
              "    async function quickchart(key) {\n",
              "      const quickchartButtonEl =\n",
              "        document.querySelector('#' + key + ' button');\n",
              "      quickchartButtonEl.disabled = true;  // To prevent multiple clicks.\n",
              "      quickchartButtonEl.classList.add('colab-df-spinner');\n",
              "      try {\n",
              "        const charts = await google.colab.kernel.invokeFunction(\n",
              "            'suggestCharts', [key], {});\n",
              "      } catch (error) {\n",
              "        console.error('Error during call to suggestCharts:', error);\n",
              "      }\n",
              "      quickchartButtonEl.classList.remove('colab-df-spinner');\n",
              "      quickchartButtonEl.classList.add('colab-df-quickchart-complete');\n",
              "    }\n",
              "    (() => {\n",
              "      let quickchartButtonEl =\n",
              "        document.querySelector('#df-0f51ea2e-5887-41d4-a96a-25b3df52394d button');\n",
              "      quickchartButtonEl.style.display =\n",
              "        google.colab.kernel.accessAllowed ? 'block' : 'none';\n",
              "    })();\n",
              "  </script>\n",
              "</div>\n",
              "    </div>\n",
              "  </div>\n"
            ]
          },
          "metadata": {},
          "execution_count": 8
        }
      ]
    },
    {
      "cell_type": "code",
      "source": [
        "df.columns"
      ],
      "metadata": {
        "id": "eleJUI1Ke-Pa",
        "colab": {
          "base_uri": "https://localhost:8080/"
        },
        "outputId": "f4d4d24b-a4f6-4223-9e94-2ef1b6d22d08"
      },
      "execution_count": null,
      "outputs": [
        {
          "output_type": "execute_result",
          "data": {
            "text/plain": [
              "Index(['ACCESS_PERSONAL_INFO___', 'ALTER_PHONE_STATE___', 'ANTI_DEBUG_____',\n",
              "       'CREATE_FOLDER_____', 'CREATE_PROCESS`_____', 'CREATE_THREAD_____',\n",
              "       'DEVICE_ACCESS_____', 'EXECUTE_____', 'FS_ACCESS____',\n",
              "       'FS_ACCESS()____',\n",
              "       ...\n",
              "       'utimes', 'vfork', 'vibrate', 'vibratePattern', 'wait4',\n",
              "       'watchRotation', 'windowGainedFocus', 'write', 'writev', 'Class'],\n",
              "      dtype='object', length=471)"
            ]
          },
          "metadata": {},
          "execution_count": 9
        }
      ]
    },
    {
      "cell_type": "code",
      "source": [
        "# df.columns.tolist()"
      ],
      "metadata": {
        "id": "HriXwT_4fk-y"
      },
      "execution_count": null,
      "outputs": []
    },
    {
      "cell_type": "code",
      "source": [
        "len(df.columns)"
      ],
      "metadata": {
        "id": "6LokOeqacPyO",
        "colab": {
          "base_uri": "https://localhost:8080/"
        },
        "outputId": "0e5d391e-387b-42eb-b70a-a30b2d8f36aa"
      },
      "execution_count": null,
      "outputs": [
        {
          "output_type": "execute_result",
          "data": {
            "text/plain": [
              "471"
            ]
          },
          "metadata": {},
          "execution_count": 11
        }
      ]
    },
    {
      "cell_type": "code",
      "source": [
        "df['Class'].describe\n",
        "# Labels\n",
        "# Adware: 1,253-------1\n",
        "# Banking: 2,100------2\n",
        "# SMS malware: 3,904--3\n",
        "# Riskware: 2,546-----4\n",
        "# Benign: 1,795-------5"
      ],
      "metadata": {
        "id": "5h3jHIBmfcsI",
        "colab": {
          "base_uri": "https://localhost:8080/"
        },
        "outputId": "65c42996-e45a-4846-b1e5-aba8d891dfae"
      },
      "execution_count": null,
      "outputs": [
        {
          "output_type": "execute_result",
          "data": {
            "text/plain": [
              "<bound method NDFrame.describe of 0        1\n",
              "1        1\n",
              "2        1\n",
              "3        1\n",
              "4        1\n",
              "        ..\n",
              "11593    5\n",
              "11594    5\n",
              "11595    5\n",
              "11596    5\n",
              "11597    5\n",
              "Name: Class, Length: 11598, dtype: int64>"
            ]
          },
          "metadata": {},
          "execution_count": 12
        }
      ]
    },
    {
      "cell_type": "code",
      "source": [
        "label_counts = df['Class'].value_counts()\n",
        "\n",
        "labels = label_counts.index.tolist()\n",
        "counts = label_counts.tolist()\n",
        "\n",
        "plt.bar(labels, counts)\n",
        "plt.xlabel('Malware')\n",
        "plt.ylabel('Counts')\n",
        "plt.title('Malware Distribution in Dataset')\n",
        "plt.show()"
      ],
      "metadata": {
        "id": "gIcuwpB7pbKy",
        "colab": {
          "base_uri": "https://localhost:8080/",
          "height": 472
        },
        "outputId": "598b60bb-6a18-462c-ba78-dc5f816ca2ca"
      },
      "execution_count": null,
      "outputs": [
        {
          "output_type": "display_data",
          "data": {
            "text/plain": [
              "<Figure size 640x480 with 1 Axes>"
            ],
            "image/png": "[encoded data removed]"
          },
          "metadata": {}
        }
      ]
    },
    {
      "cell_type": "code",
      "source": [
        "df.isnull().sum()"
      ],
      "metadata": {
        "id": "HFmvwiF7fjPI",
        "colab": {
          "base_uri": "https://localhost:8080/"
        },
        "outputId": "30a56dbc-7b1d-4334-9551-8c41095f88a6"
      },
      "execution_count": null,
      "outputs": [
        {
          "output_type": "execute_result",
          "data": {
            "text/plain": [
              "ACCESS_PERSONAL_INFO___    0\n",
              "ALTER_PHONE_STATE___       0\n",
              "ANTI_DEBUG_____            0\n",
              "CREATE_FOLDER_____         0\n",
              "CREATE_PROCESS`_____       0\n",
              "                          ..\n",
              "watchRotation              0\n",
              "windowGainedFocus          0\n",
              "write                      0\n",
              "writev                     0\n",
              "Class                      0\n",
              "Length: 471, dtype: int64"
            ]
          },
          "metadata": {},
          "execution_count": 14
        }
      ]
    },
    {
      "cell_type": "code",
      "source": [
        "df[df['Class']==1]"
      ],
      "metadata": {
        "id": "sKtTM53MJAH6",
        "colab": {
          "base_uri": "https://localhost:8080/",
          "height": 444
        },
        "outputId": "d41299d5-6e1c-4435-ae78-0c954c66a3e7"
      },
      "execution_count": null,
      "outputs": [
        {
          "output_type": "execute_result",
          "data": {
            "text/plain": [
              "      ACCESS_PERSONAL_INFO___  ALTER_PHONE_STATE___  ANTI_DEBUG_____  \\\n",
              "0                           1                     0                0   \n",
              "1                           3                     0                0   \n",
              "2                           2                     0                0   \n",
              "3                           1                     0                0   \n",
              "4                           3                     0                0   \n",
              "...                       ...                   ...              ...   \n",
              "1248                       15                     0                0   \n",
              "1249                       10                     0                0   \n",
              "1250                        7                     0                0   \n",
              "1251                        2                     0                0   \n",
              "1252                        6                     0                0   \n",
              "\n",
              "      CREATE_FOLDER_____  CREATE_PROCESS`_____  CREATE_THREAD_____  \\\n",
              "0                      3                     0                  14   \n",
              "1                      6                     0                  42   \n",
              "2                      4                     0                  23   \n",
              "3                      4                     0                  27   \n",
              "4                     11                     0                  18   \n",
              "...                  ...                   ...                 ...   \n",
              "1248                   6                     2                  31   \n",
              "1249                   4                    10                  35   \n",
              "1250                   4                     0                  46   \n",
              "1251                   0                     0                  19   \n",
              "1252                   3                     0                  17   \n",
              "\n",
              "      DEVICE_ACCESS_____  EXECUTE_____  FS_ACCESS____  FS_ACCESS()____  ...  \\\n",
              "0                      2             0              3                0  ...   \n",
              "1                     91             0             32                0  ...   \n",
              "2                      3             0             17                2  ...   \n",
              "3                      9             0             36                0  ...   \n",
              "4                      3             0             16                0  ...   \n",
              "...                  ...           ...            ...              ...  ...   \n",
              "1248                  25             8             64               46  ...   \n",
              "1249                  14            40             89                9  ...   \n",
              "1250                   6             0             37                8  ...   \n",
              "1251                   3             0              3                5  ...   \n",
              "1252                   2             0             21                0  ...   \n",
              "\n",
              "      utimes  vfork  vibrate  vibratePattern  wait4  watchRotation  \\\n",
              "0          0      0        0               0      0              0   \n",
              "1          0      0        0               0      0              0   \n",
              "2          0      0        0               0      0              0   \n",
              "3          0      0        0               0      0              0   \n",
              "4          0      0        0               0      0              0   \n",
              "...      ...    ...      ...             ...    ...            ...   \n",
              "1248       0      0        0               0      4              0   \n",
              "1249       0      0        0               0     16              0   \n",
              "1250       0      0        0               0      0              0   \n",
              "1251       0      0        0               0      0              0   \n",
              "1252       0      0        0               0      0              0   \n",
              "\n",
              "      windowGainedFocus  write  writev  Class  \n",
              "0                     0     37      10      1  \n",
              "1                     2   2838      46      1  \n",
              "2                     1    111      20      1  \n",
              "3                     7    987     197      1  \n",
              "4                     1     98      25      1  \n",
              "...                 ...    ...     ...    ...  \n",
              "1248                  0    133      41      1  \n",
              "1249                  5   2900     164      1  \n",
              "1250                  4    584      45      1  \n",
              "1251                  0    102      19      1  \n",
              "1252                  2    103      23      1  \n",
              "\n",
              "[1253 rows x 471 columns]"
            ],
            "text/html": [
              "\n",
              "  <div id=\"df-acd77800-1fd7-45f6-876f-c7c4a46bb49c\" class=\"colab-df-container\">\n",
              "    <div>\n",
              "<style scoped>\n",
              "    .dataframe tbody tr th:only-of-type {\n",
              "        vertical-align: middle;\n",
              "    }\n",
              "\n",
              "    .dataframe tbody tr th {\n",
              "        vertical-align: top;\n",
              "    }\n",
              "\n",
              "    .dataframe thead th {\n",
              "        text-align: right;\n",
              "    }\n",
              "</style>\n",
              "<table border=\"1\" class=\"dataframe\">\n",
              "  <thead>\n",
              "    <tr style=\"text-align: right;\">\n",
              "      <th></th>\n",
              "      <th>ACCESS_PERSONAL_INFO___</th>\n",
              "      <th>ALTER_PHONE_STATE___</th>\n",
              "      <th>ANTI_DEBUG_____</th>\n",
              "      <th>CREATE_FOLDER_____</th>\n",
              "      <th>CREATE_PROCESS`_____</th>\n",
              "      <th>CREATE_THREAD_____</th>\n",
              "      <th>DEVICE_ACCESS_____</th>\n",
              "      <th>EXECUTE_____</th>\n",
              "      <th>FS_ACCESS____</th>\n",
              "      <th>FS_ACCESS()____</th>\n",
              "      <th>...</th>\n",
              "      <th>utimes</th>\n",
              "      <th>vfork</th>\n",
              "      <th>vibrate</th>\n",
              "      <th>vibratePattern</th>\n",
              "      <th>wait4</th>\n",
              "      <th>watchRotation</th>\n",
              "      <th>windowGainedFocus</th>\n",
              "      <th>write</th>\n",
              "      <th>writev</th>\n",
              "      <th>Class</th>\n",
              "    </tr>\n",
              "  </thead>\n",
              "  <tbody>\n",
              "    <tr>\n",
              "      <th>0</th>\n",
              "      <td>1</td>\n",
              "      <td>0</td>\n",
              "      <td>0</td>\n",
              "      <td>3</td>\n",
              "      <td>0</td>\n",
              "      <td>14</td>\n",
              "      <td>2</td>\n",
              "      <td>0</td>\n",
              "      <td>3</td>\n",
              "      <td>0</td>\n",
              "      <td>...</td>\n",
              "      <td>0</td>\n",
              "      <td>0</td>\n",
              "      <td>0</td>\n",
              "      <td>0</td>\n",
              "      <td>0</td>\n",
              "      <td>0</td>\n",
              "      <td>0</td>\n",
              "      <td>37</td>\n",
              "      <td>10</td>\n",
              "      <td>1</td>\n",
              "    </tr>\n",
              "    <tr>\n",
              "      <th>1</th>\n",
              "      <td>3</td>\n",
              "      <td>0</td>\n",
              "      <td>0</td>\n",
              "      <td>6</td>\n",
              "      <td>0</td>\n",
              "      <td>42</td>\n",
              "      <td>91</td>\n",
              "      <td>0</td>\n",
              "      <td>32</td>\n",
              "      <td>0</td>\n",
              "      <td>...</td>\n",
              "      <td>0</td>\n",
              "      <td>0</td>\n",
              "      <td>0</td>\n",
              "      <td>0</td>\n",
              "      <td>0</td>\n",
              "      <td>0</td>\n",
              "      <td>2</td>\n",
              "      <td>2838</td>\n",
              "      <td>46</td>\n",
              "      <td>1</td>\n",
              "    </tr>\n",
              "    <tr>\n",
              "      <th>2</th>\n",
              "      <td>2</td>\n",
              "      <td>0</td>\n",
              "      <td>0</td>\n",
              "      <td>4</td>\n",
              "      <td>0</td>\n",
              "      <td>23</td>\n",
              "      <td>3</td>\n",
              "      <td>0</td>\n",
              "      <td>17</td>\n",
              "      <td>2</td>\n",
              "      <td>...</td>\n",
              "      <td>0</td>\n",
              "      <td>0</td>\n",
              "      <td>0</td>\n",
              "      <td>0</td>\n",
              "      <td>0</td>\n",
              "      <td>0</td>\n",
              "      <td>1</td>\n",
              "      <td>111</td>\n",
              "      <td>20</td>\n",
              "      <td>1</td>\n",
              "    </tr>\n",
              "    <tr>\n",
              "      <th>3</th>\n",
              "      <td>1</td>\n",
              "      <td>0</td>\n",
              "      <td>0</td>\n",
              "      <td>4</td>\n",
              "      <td>0</td>\n",
              "      <td>27</td>\n",
              "      <td>9</td>\n",
              "      <td>0</td>\n",
              "      <td>36</td>\n",
              "      <td>0</td>\n",
              "      <td>...</td>\n",
              "      <td>0</td>\n",
              "      <td>0</td>\n",
              "      <td>0</td>\n",
              "      <td>0</td>\n",
              "      <td>0</td>\n",
              "      <td>0</td>\n",
              "      <td>7</td>\n",
              "      <td>987</td>\n",
              "      <td>197</td>\n",
              "      <td>1</td>\n",
              "    </tr>\n",
              "    <tr>\n",
              "      <th>4</th>\n",
              "      <td>3</td>\n",
              "      <td>0</td>\n",
              "      <td>0</td>\n",
              "      <td>11</td>\n",
              "      <td>0</td>\n",
              "      <td>18</td>\n",
              "      <td>3</td>\n",
              "      <td>0</td>\n",
              "      <td>16</td>\n",
              "      <td>0</td>\n",
              "      <td>...</td>\n",
              "      <td>0</td>\n",
              "      <td>0</td>\n",
              "      <td>0</td>\n",
              "      <td>0</td>\n",
              "      <td>0</td>\n",
              "      <td>0</td>\n",
              "      <td>1</td>\n",
              "      <td>98</td>\n",
              "      <td>25</td>\n",
              "      <td>1</td>\n",
              "    </tr>\n",
              "    <tr>\n",
              "      <th>...</th>\n",
              "      <td>...</td>\n",
              "      <td>...</td>\n",
              "      <td>...</td>\n",
              "      <td>...</td>\n",
              "      <td>...</td>\n",
              "      <td>...</td>\n",
              "      <td>...</td>\n",
              "      <td>...</td>\n",
              "      <td>...</td>\n",
              "      <td>...</td>\n",
              "      <td>...</td>\n",
              "      <td>...</td>\n",
              "      <td>...</td>\n",
              "      <td>...</td>\n",
              "      <td>...</td>\n",
              "      <td>...</td>\n",
              "      <td>...</td>\n",
              "      <td>...</td>\n",
              "      <td>...</td>\n",
              "      <td>...</td>\n",
              "      <td>...</td>\n",
              "    </tr>\n",
              "    <tr>\n",
              "      <th>1248</th>\n",
              "      <td>15</td>\n",
              "      <td>0</td>\n",
              "      <td>0</td>\n",
              "      <td>6</td>\n",
              "      <td>2</td>\n",
              "      <td>31</td>\n",
              "      <td>25</td>\n",
              "      <td>8</td>\n",
              "      <td>64</td>\n",
              "      <td>46</td>\n",
              "      <td>...</td>\n",
              "      <td>0</td>\n",
              "      <td>0</td>\n",
              "      <td>0</td>\n",
              "      <td>0</td>\n",
              "      <td>4</td>\n",
              "      <td>0</td>\n",
              "      <td>0</td>\n",
              "      <td>133</td>\n",
              "      <td>41</td>\n",
              "      <td>1</td>\n",
              "    </tr>\n",
              "    <tr>\n",
              "      <th>1249</th>\n",
              "      <td>10</td>\n",
              "      <td>0</td>\n",
              "      <td>0</td>\n",
              "      <td>4</td>\n",
              "      <td>10</td>\n",
              "      <td>35</td>\n",
              "      <td>14</td>\n",
              "      <td>40</td>\n",
              "      <td>89</td>\n",
              "      <td>9</td>\n",
              "      <td>...</td>\n",
              "      <td>0</td>\n",
              "      <td>0</td>\n",
              "      <td>0</td>\n",
              "      <td>0</td>\n",
              "      <td>16</td>\n",
              "      <td>0</td>\n",
              "      <td>5</td>\n",
              "      <td>2900</td>\n",
              "      <td>164</td>\n",
              "      <td>1</td>\n",
              "    </tr>\n",
              "    <tr>\n",
              "      <th>1250</th>\n",
              "      <td>7</td>\n",
              "      <td>0</td>\n",
              "      <td>0</td>\n",
              "      <td>4</td>\n",
              "      <td>0</td>\n",
              "      <td>46</td>\n",
              "      <td>6</td>\n",
              "      <td>0</td>\n",
              "      <td>37</td>\n",
              "      <td>8</td>\n",
              "      <td>...</td>\n",
              "      <td>0</td>\n",
              "      <td>0</td>\n",
              "      <td>0</td>\n",
              "      <td>0</td>\n",
              "      <td>0</td>\n",
              "      <td>0</td>\n",
              "      <td>4</td>\n",
              "      <td>584</td>\n",
              "      <td>45</td>\n",
              "      <td>1</td>\n",
              "    </tr>\n",
              "    <tr>\n",
              "      <th>1251</th>\n",
              "      <td>2</td>\n",
              "      <td>0</td>\n",
              "      <td>0</td>\n",
              "      <td>0</td>\n",
              "      <td>0</td>\n",
              "      <td>19</td>\n",
              "      <td>3</td>\n",
              "      <td>0</td>\n",
              "      <td>3</td>\n",
              "      <td>5</td>\n",
              "      <td>...</td>\n",
              "      <td>0</td>\n",
              "      <td>0</td>\n",
              "      <td>0</td>\n",
              "      <td>0</td>\n",
              "      <td>0</td>\n",
              "      <td>0</td>\n",
              "      <td>0</td>\n",
              "      <td>102</td>\n",
              "      <td>19</td>\n",
              "      <td>1</td>\n",
              "    </tr>\n",
              "    <tr>\n",
              "      <th>1252</th>\n",
              "      <td>6</td>\n",
              "      <td>0</td>\n",
              "      <td>0</td>\n",
              "      <td>3</td>\n",
              "      <td>0</td>\n",
              "      <td>17</td>\n",
              "      <td>2</td>\n",
              "      <td>0</td>\n",
              "      <td>21</td>\n",
              "      <td>0</td>\n",
              "      <td>...</td>\n",
              "      <td>0</td>\n",
              "      <td>0</td>\n",
              "      <td>0</td>\n",
              "      <td>0</td>\n",
              "      <td>0</td>\n",
              "      <td>0</td>\n",
              "      <td>2</td>\n",
              "      <td>103</td>\n",
              "      <td>23</td>\n",
              "      <td>1</td>\n",
              "    </tr>\n",
              "  </tbody>\n",
              "</table>\n",
              "<p>1253 rows × 471 columns</p>\n",
              "</div>\n",
              "    <div class=\"colab-df-buttons\">\n",
              "\n",
              "  <div class=\"colab-df-container\">\n",
              "    <button class=\"colab-df-convert\" onclick=\"convertToInteractive('df-acd77800-1fd7-45f6-876f-c7c4a46bb49c')\"\n",
              "            title=\"Convert this dataframe to an interactive table.\"\n",
              "            style=\"display:none;\">\n",
              "\n",
              "  <svg xmlns=\"http://www.w3.org/2000/svg\" height=\"24px\" viewBox=\"0 -960 960 960\">\n",
              "    <path d=\"M120-120v-720h720v720H120Zm60-500h600v-160H180v160Zm220 220h160v-160H400v160Zm0 220h160v-160H400v160ZM180-400h160v-160H180v160Zm440 0h160v-160H620v160ZM180-180h160v-160H180v160Zm440 0h160v-160H620v160Z\"/>\n",
              "  </svg>\n",
              "    </button>\n",
              "\n",
              "  <style>\n",
              "    .colab-df-container {\n",
              "      display:flex;\n",
              "      gap: 12px;\n",
              "    }\n",
              "\n",
              "    .colab-df-convert {\n",
              "      background-color: #E8F0FE;\n",
              "      border: none;\n",
              "      border-radius: 50%;\n",
              "      cursor: pointer;\n",
              "      display: none;\n",
              "      fill: #1967D2;\n",
              "      height: 32px;\n",
              "      padding: 0 0 0 0;\n",
              "      width: 32px;\n",
              "    }\n",
              "\n",
              "    .colab-df-convert:hover {\n",
              "      background-color: #E2EBFA;\n",
              "      box-shadow: 0px 1px 2px rgba(60, 64, 67, 0.3), 0px 1px 3px 1px rgba(60, 64, 67, 0.15);\n",
              "      fill: #174EA6;\n",
              "    }\n",
              "\n",
              "    .colab-df-buttons div {\n",
              "      margin-bottom: 4px;\n",
              "    }\n",
              "\n",
              "    [theme=dark] .colab-df-convert {\n",
              "      background-color: #3B4455;\n",
              "      fill: #D2E3FC;\n",
              "    }\n",
              "\n",
              "    [theme=dark] .colab-df-convert:hover {\n",
              "      background-color: #434B5C;\n",
              "      box-shadow: 0px 1px 3px 1px rgba(0, 0, 0, 0.15);\n",
              "      filter: drop-shadow(0px 1px 2px rgba(0, 0, 0, 0.3));\n",
              "      fill: #FFFFFF;\n",
              "    }\n",
              "  </style>\n",
              "\n",
              "    <script>\n",
              "      const buttonEl =\n",
              "        document.querySelector('#df-acd77800-1fd7-45f6-876f-c7c4a46bb49c button.colab-df-convert');\n",
              "      buttonEl.style.display =\n",
              "        google.colab.kernel.accessAllowed ? 'block' : 'none';\n",
              "\n",
              "      async function convertToInteractive(key) {\n",
              "        const element = document.querySelector('#df-acd77800-1fd7-45f6-876f-c7c4a46bb49c');\n",
              "        const dataTable =\n",
              "          await google.colab.kernel.invokeFunction('convertToInteractive',\n",
              "                                                    [key], {});\n",
              "        if (!dataTable) return;\n",
              "\n",
              "        const docLinkHtml = 'Like what you see? Visit the ' +\n",
              "          '<a target=\"_blank\" href=https://colab.research.google.com/notebooks/data_table.ipynb>data table notebook</a>'\n",
              "          + ' to learn more about interactive tables.';\n",
              "        element.innerHTML = '';\n",
              "        dataTable['output_type'] = 'display_data';\n",
              "        await google.colab.output.renderOutput(dataTable, element);\n",
              "        const docLink = document.createElement('div');\n",
              "        docLink.innerHTML = docLinkHtml;\n",
              "        element.appendChild(docLink);\n",
              "      }\n",
              "    </script>\n",
              "  </div>\n",
              "\n",
              "\n",
              "<div id=\"df-da612e4f-2280-47b5-8271-ed0ca7b71e8a\">\n",
              "  <button class=\"colab-df-quickchart\" onclick=\"quickchart('df-da612e4f-2280-47b5-8271-ed0ca7b71e8a')\"\n",
              "            title=\"Suggest charts\"\n",
              "            style=\"display:none;\">\n",
              "\n",
              "<svg xmlns=\"http://www.w3.org/2000/svg\" height=\"24px\"viewBox=\"0 0 24 24\"\n",
              "     width=\"24px\">\n",
              "    <g>\n",
              "        <path d=\"M19 3H5c-1.1 0-2 .9-2 2v14c0 1.1.9 2 2 2h14c1.1 0 2-.9 2-2V5c0-1.1-.9-2-2-2zM9 17H7v-7h2v7zm4 0h-2V7h2v10zm4 0h-2v-4h2v4z\"/>\n",
              "    </g>\n",
              "</svg>\n",
              "  </button>\n",
              "\n",
              "<style>\n",
              "  .colab-df-quickchart {\n",
              "      --bg-color: #E8F0FE;\n",
              "      --fill-color: #1967D2;\n",
              "      --hover-bg-color: #E2EBFA;\n",
              "      --hover-fill-color: #174EA6;\n",
              "      --disabled-fill-color: #AAA;\n",
              "      --disabled-bg-color: #DDD;\n",
              "  }\n",
              "\n",
              "  [theme=dark] .colab-df-quickchart {\n",
              "      --bg-color: #3B4455;\n",
              "      --fill-color: #D2E3FC;\n",
              "      --hover-bg-color: #434B5C;\n",
              "      --hover-fill-color: #FFFFFF;\n",
              "      --disabled-bg-color: #3B4455;\n",
              "      --disabled-fill-color: #666;\n",
              "  }\n",
              "\n",
              "  .colab-df-quickchart {\n",
              "    background-color: var(--bg-color);\n",
              "    border: none;\n",
              "    border-radius: 50%;\n",
              "    cursor: pointer;\n",
              "    display: none;\n",
              "    fill: var(--fill-color);\n",
              "    height: 32px;\n",
              "    padding: 0;\n",
              "    width: 32px;\n",
              "  }\n",
              "\n",
              "  .colab-df-quickchart:hover {\n",
              "    background-color: var(--hover-bg-color);\n",
              "    box-shadow: 0 1px 2px rgba(60, 64, 67, 0.3), 0 1px 3px 1px rgba(60, 64, 67, 0.15);\n",
              "    fill: var(--button-hover-fill-color);\n",
              "  }\n",
              "\n",
              "  .colab-df-quickchart-complete:disabled,\n",
              "  .colab-df-quickchart-complete:disabled:hover {\n",
              "    background-color: var(--disabled-bg-color);\n",
              "    fill: var(--disabled-fill-color);\n",
              "    box-shadow: none;\n",
              "  }\n",
              "\n",
              "  .colab-df-spinner {\n",
              "    border: 2px solid var(--fill-color);\n",
              "    border-color: transparent;\n",
              "    border-bottom-color: var(--fill-color);\n",
              "    animation:\n",
              "      spin 1s steps(1) infinite;\n",
              "  }\n",
              "\n",
              "  @keyframes spin {\n",
              "    0% {\n",
              "      border-color: transparent;\n",
              "      border-bottom-color: var(--fill-color);\n",
              "      border-left-color: var(--fill-color);\n",
              "    }\n",
              "    20% {\n",
              "      border-color: transparent;\n",
              "      border-left-color: var(--fill-color);\n",
              "      border-top-color: var(--fill-color);\n",
              "    }\n",
              "    30% {\n",
              "      border-color: transparent;\n",
              "      border-left-color: var(--fill-color);\n",
              "      border-top-color: var(--fill-color);\n",
              "      border-right-color: var(--fill-color);\n",
              "    }\n",
              "    40% {\n",
              "      border-color: transparent;\n",
              "      border-right-color: var(--fill-color);\n",
              "      border-top-color: var(--fill-color);\n",
              "    }\n",
              "    60% {\n",
              "      border-color: transparent;\n",
              "      border-right-color: var(--fill-color);\n",
              "    }\n",
              "    80% {\n",
              "      border-color: transparent;\n",
              "      border-right-color: var(--fill-color);\n",
              "      border-bottom-color: var(--fill-color);\n",
              "    }\n",
              "    90% {\n",
              "      border-color: transparent;\n",
              "      border-bottom-color: var(--fill-color);\n",
              "    }\n",
              "  }\n",
              "</style>\n",
              "\n",
              "  <script>\n",
              "    async function quickchart(key) {\n",
              "      const quickchartButtonEl =\n",
              "        document.querySelector('#' + key + ' button');\n",
              "      quickchartButtonEl.disabled = true;  // To prevent multiple clicks.\n",
              "      quickchartButtonEl.classList.add('colab-df-spinner');\n",
              "      try {\n",
              "        const charts = await google.colab.kernel.invokeFunction(\n",
              "            'suggestCharts', [key], {});\n",
              "      } catch (error) {\n",
              "        console.error('Error during call to suggestCharts:', error);\n",
              "      }\n",
              "      quickchartButtonEl.classList.remove('colab-df-spinner');\n",
              "      quickchartButtonEl.classList.add('colab-df-quickchart-complete');\n",
              "    }\n",
              "    (() => {\n",
              "      let quickchartButtonEl =\n",
              "        document.querySelector('#df-da612e4f-2280-47b5-8271-ed0ca7b71e8a button');\n",
              "      quickchartButtonEl.style.display =\n",
              "        google.colab.kernel.accessAllowed ? 'block' : 'none';\n",
              "    })();\n",
              "  </script>\n",
              "</div>\n",
              "    </div>\n",
              "  </div>\n"
            ]
          },
          "metadata": {},
          "execution_count": 15
        }
      ]
    },
    {
      "cell_type": "code",
      "source": [
        "df['Class'].value_counts()"
      ],
      "metadata": {
        "id": "B1mfI-hUfjR9",
        "colab": {
          "base_uri": "https://localhost:8080/"
        },
        "outputId": "3a6b0b1a-3797-4693-cab8-c4e6c46fc462"
      },
      "execution_count": null,
      "outputs": [
        {
          "output_type": "execute_result",
          "data": {
            "text/plain": [
              "3    3904\n",
              "4    2546\n",
              "2    2100\n",
              "5    1795\n",
              "1    1253\n",
              "Name: Class, dtype: int64"
            ]
          },
          "metadata": {},
          "execution_count": 16
        }
      ]
    },
    {
      "cell_type": "code",
      "source": [
        "df['Class'].value_counts() / len(df)\n",
        "# too many intances for class 3 adn less for class 1"
      ],
      "metadata": {
        "id": "jaSM8YUCD3DY",
        "colab": {
          "base_uri": "https://localhost:8080/"
        },
        "outputId": "368669ad-a4d3-47a3-8e80-bd324ef0363a"
      },
      "execution_count": null,
      "outputs": [
        {
          "output_type": "execute_result",
          "data": {
            "text/plain": [
              "3    0.336610\n",
              "4    0.219521\n",
              "2    0.181066\n",
              "5    0.154768\n",
              "1    0.108036\n",
              "Name: Class, dtype: float64"
            ]
          },
          "metadata": {},
          "execution_count": 17
        }
      ]
    },
    {
      "cell_type": "code",
      "source": [
        "X = df.drop(columns=['Class'])  # Features\n",
        "y = df['Class']  # Target variable\n",
        "\n",
        "X_train, X_test, y_train, y_test = train_test_split(X, y, stratify=y,test_size=0.2, random_state=42)"
      ],
      "metadata": {
        "id": "WCUac5qYeRb8"
      },
      "execution_count": null,
      "outputs": []
    },
    {
      "cell_type": "code",
      "source": [
        "# from sklearn.feature_selection import RFE\n",
        "\n",
        "num_features_to_select = 100\n",
        "selector = SelectKBest(score_func=mutual_info_classif, k=num_features_to_select)\n",
        "X_train = selector.fit_transform(X_train, y_train)\n",
        "X_test = selector.transform(X_test)\n",
        "\n",
        "# Get the indices of selected features\n",
        "selected_feature_indices = selector.get_support(indices=True)\n",
        "print(selected_feature_indices)"
      ],
      "metadata": {
        "id": "VVtpu4CNeO7R",
        "colab": {
          "base_uri": "https://localhost:8080/"
        },
        "outputId": "7cf9014f-b7fe-4989-ea8e-5fe43e82e036"
      },
      "execution_count": null,
      "outputs": [
        {
          "output_type": "stream",
          "name": "stdout",
          "text": [
            "[  3   4   5   7   8   9  10  12  13  14  18  19  22  23  25  28  31  33\n",
            "  34  35  36  44  52  53  61  65  68  69  70  72  78  79  84  85  86  88\n",
            "  89  90  92  95  96  97 100 101 102 104 106 107 113 114 116 119 124 131\n",
            " 159 160 200 213 233 236 237 238 242 244 252 257 259 267 286 288 290 291\n",
            " 294 296 298 300 311 312 316 322 336 348 354 357 358 376 377 378 381 387\n",
            " 415 426 427 428 430 431 437 438 450 453]\n"
          ]
        }
      ]
    },
    {
      "cell_type": "code",
      "source": [
        "print(X_train.shape, X_test.shape)"
      ],
      "metadata": {
        "id": "85j0XPOmfByX",
        "colab": {
          "base_uri": "https://localhost:8080/"
        },
        "outputId": "64b1b218-0ed7-49ca-ab52-43b32da99b1f"
      },
      "execution_count": null,
      "outputs": [
        {
          "output_type": "stream",
          "name": "stdout",
          "text": [
            "(9278, 100) (2320, 100)\n"
          ]
        }
      ]
    },
    {
      "cell_type": "code",
      "source": [
        "# Classes are imbalanced. Using SMOTE- Oversampling technique that produces new synthetic data samples using a simple algorithm\n",
        "from imblearn.over_sampling import SMOTE\n",
        "\n",
        "sm = SMOTE(random_state = 100)\n",
        "X_train, y_train = sm.fit_resample(X_train, y_train.ravel())\n",
        "\n",
        "print(\"Post OverSampling, the shape of  diver_X: {}\".format(X_train.shape))\n",
        "print(\"Post OverSampling, the shape of diver_y: {}\".format(y_train.shape))\n",
        "\n",
        "pd.DataFrame(y_train).value_counts() / len(y_train)"
      ],
      "metadata": {
        "id": "KrKU6_SEd3er",
        "colab": {
          "base_uri": "https://localhost:8080/"
        },
        "outputId": "b62cfb7a-2c78-4105-b9a1-e26cefa1382f"
      },
      "execution_count": null,
      "outputs": [
        {
          "output_type": "stream",
          "name": "stdout",
          "text": [
            "Post OverSampling, the shape of  diver_X: (15615, 100)\n",
            "Post OverSampling, the shape of diver_y: (15615,)\n"
          ]
        },
        {
          "output_type": "execute_result",
          "data": {
            "text/plain": [
              "1    0.2\n",
              "2    0.2\n",
              "3    0.2\n",
              "4    0.2\n",
              "5    0.2\n",
              "dtype: float64"
            ]
          },
          "metadata": {},
          "execution_count": 21
        }
      ]
    },
    {
      "cell_type": "code",
      "source": [
        "from sklearn.preprocessing import StandardScaler\n",
        "\n",
        "scaler = StandardScaler()\n",
        "\n",
        "X_train_std = scaler.fit_transform(X_train)\n",
        "X_test_std = scaler.fit_transform(X_test)"
      ],
      "metadata": {
        "id": "-_mZATh4fB07"
      },
      "execution_count": null,
      "outputs": []
    },
    {
      "cell_type": "markdown",
      "source": [
        "# Model 1: Naive Bayes Classifier\n"
      ],
      "metadata": {
        "id": "2SVDk_PH91gJ"
      }
    },
    {
      "cell_type": "code",
      "source": [
        "nb_model = GaussianNB()\n",
        "nb_model.fit(X_train, y_train)\n",
        "\n",
        "# Predict labels on the test set\n",
        "y_pred = nb_model.predict(X_test)"
      ],
      "metadata": {
        "id": "JB3kGD_R-WVF"
      },
      "execution_count": null,
      "outputs": []
    },
    {
      "cell_type": "code",
      "source": [
        "nb_accuracy = accuracy_score(y_test, y_pred)\n",
        "nb_precision = precision_score(y_test, y_pred, average='weighted')\n",
        "nb_recall = recall_score(y_test, y_pred, average='weighted')\n",
        "nb_f1 = f1_score(y_test, y_pred, average='weighted')\n",
        "\n",
        "# Create table data\n",
        "table_data = [\n",
        "    [\"Naive Bayes Classifier Accuracy\", f\"{nb_accuracy:.4f}\"],\n",
        "    [\"Naive Bayes Classifier Precision\", f\"{nb_precision:.4f}\"],\n",
        "    [\"Naive Bayes Classifier Recall\", f\"{nb_recall:.4f}\"],\n",
        "    [\"Naive Bayes Classifier F1-Score\", f\"{nb_f1:.4f}\"]\n",
        "]\n",
        "\n",
        "# Print data in tabular format\n",
        "print(tabulate(table_data, headers=[\"Metric\", \"Score\"], tablefmt=\"fancy_grid\"))"
      ],
      "metadata": {
        "id": "yvmywgjQE8Eb",
        "colab": {
          "base_uri": "https://localhost:8080/"
        },
        "outputId": "58289681-c2a1-4c3b-e888-ca75697669a2"
      },
      "execution_count": null,
      "outputs": [
        {
          "output_type": "stream",
          "name": "stdout",
          "text": [
            "╒══════════════════════════════════╤═════════╕\n",
            "│ Metric                           │   Score │\n",
            "╞══════════════════════════════════╪═════════╡\n",
            "│ Naive Bayes Classifier Accuracy  │  0.5332 │\n",
            "├──────────────────────────────────┼─────────┤\n",
            "│ Naive Bayes Classifier Precision │  0.5734 │\n",
            "├──────────────────────────────────┼─────────┤\n",
            "│ Naive Bayes Classifier Recall    │  0.5332 │\n",
            "├──────────────────────────────────┼─────────┤\n",
            "│ Naive Bayes Classifier F1-Score  │  0.4925 │\n",
            "╘══════════════════════════════════╧═════════╛\n"
          ]
        }
      ]
    },
    {
      "cell_type": "code",
      "source": [
        "conf = confusion_matrix(y_pred, y_test)\n",
        "sns.heatmap(conf , cmap='YlGnBu', fmt='', xticklabels=['Adware' ,'Banking' ,'SMS malware', 'Riskware','Benign'], yticklabels=['Adware' ,'Banking' ,'SMS malware', 'Riskware','Benign'], annot=True)"
      ],
      "metadata": {
        "id": "ld6i-yYEFXMs",
        "colab": {
          "base_uri": "https://localhost:8080/",
          "height": 447
        },
        "outputId": "81641e97-1f30-42ff-897a-a13814b2d078"
      },
      "execution_count": null,
      "outputs": [
        {
          "output_type": "execute_result",
          "data": {
            "text/plain": [
              "<Axes: >"
            ]
          },
          "metadata": {},
          "execution_count": 25
        },
        {
          "output_type": "display_data",
          "data": {
            "text/plain": [
              "<Figure size 640x480 with 2 Axes>"
            ],
            "image/png": "[encoded data removed]"
          },
          "metadata": {}
        }
      ]
    },
    {
      "cell_type": "markdown",
      "source": [
        "# Model 2: Random Forest Classifier"
      ],
      "metadata": {
        "id": "Us-MdlDYG82u"
      }
    },
    {
      "cell_type": "code",
      "source": [
        "rfModel = RandomForestClassifier(n_estimators=300, random_state=42)\n",
        "rfModel.fit(X_train, y_train)\n",
        "\n",
        "# Predict labels on the test set\n",
        "y_pred = rfModel.predict(X_test)"
      ],
      "metadata": {
        "id": "1jCU2w8VHCQ3"
      },
      "execution_count": null,
      "outputs": []
    },
    {
      "cell_type": "code",
      "source": [
        "rf_accuracy = accuracy_score(y_test, y_pred)\n",
        "rf_precision = precision_score(y_test, y_pred, average='weighted')\n",
        "rf_recall = recall_score(y_test, y_pred, average='weighted')\n",
        "rf_f1 = f1_score(y_test, y_pred, average='weighted')\n",
        "\n",
        "# Create table data\n",
        "table_data = [\n",
        "    [\"Random Forest Classifier Accuracy\", f\"{rf_accuracy:.4f}\"],\n",
        "    [\"Random Forest Classifier Precision\", f\"{rf_precision:.4f}\"],\n",
        "    [\"Random Forest Classifier Recall\", f\"{rf_recall:.4f}\"],\n",
        "    [\"Random Forest Classifier F1-Score\", f\"{rf_f1:.4f}\"]\n",
        "]\n",
        "\n",
        "# Print data in tabular format\n",
        "print(tabulate(table_data, headers=[\"Metric\", \"Score\"], tablefmt=\"fancy_grid\"))"
      ],
      "metadata": {
        "id": "5rP4HMTtJiuI",
        "colab": {
          "base_uri": "https://localhost:8080/"
        },
        "outputId": "096768b6-4f0c-448c-841c-c395664beeee"
      },
      "execution_count": null,
      "outputs": [
        {
          "output_type": "stream",
          "name": "stdout",
          "text": [
            "╒════════════════════════════════════╤═════════╕\n",
            "│ Metric                             │   Score │\n",
            "╞════════════════════════════════════╪═════════╡\n",
            "│ Random Forest Classifier Accuracy  │  0.9435 │\n",
            "├────────────────────────────────────┼─────────┤\n",
            "│ Random Forest Classifier Precision │  0.9451 │\n",
            "├────────────────────────────────────┼─────────┤\n",
            "│ Random Forest Classifier Recall    │  0.9435 │\n",
            "├────────────────────────────────────┼─────────┤\n",
            "│ Random Forest Classifier F1-Score  │  0.9436 │\n",
            "╘════════════════════════════════════╧═════════╛\n"
          ]
        }
      ]
    },
    {
      "cell_type": "code",
      "source": [
        "conf = confusion_matrix(y_pred, y_test)\n",
        "sns.heatmap(conf , cmap='YlGnBu', fmt='', xticklabels=['Adware' ,'Banking' ,'SMS malware', 'Riskware','Benign'], yticklabels=['Adware' ,'Banking' ,'SMS malware', 'Riskware','Benign'], annot=True)"
      ],
      "metadata": {
        "id": "CikakDC7cg5f",
        "colab": {
          "base_uri": "https://localhost:8080/",
          "height": 447
        },
        "outputId": "3444a8b4-1a2e-4415-bb53-ceabf3d6b84d"
      },
      "execution_count": null,
      "outputs": [
        {
          "output_type": "execute_result",
          "data": {
            "text/plain": [
              "<Axes: >"
            ]
          },
          "metadata": {},
          "execution_count": 28
        },
        {
          "output_type": "display_data",
          "data": {
            "text/plain": [
              "<Figure size 640x480 with 2 Axes>"
            ],
            "image/png": "[encoded data removed]"
          },
          "metadata": {}
        }
      ]
    },
    {
      "cell_type": "markdown",
      "source": [
        "# Model 3: Logistic Regression\n",
        "\n",
        "\n",
        "\n"
      ],
      "metadata": {
        "id": "K6nvBNAtdrd2"
      }
    },
    {
      "cell_type": "code",
      "source": [
        "logmodel = LogisticRegression(max_iter=1000000, random_state=42)\n",
        "logmodel.fit(X_train_std, y_train)\n",
        "\n",
        "# Predict labels on the test set\n",
        "y_pred = logmodel.predict(X_test_std)"
      ],
      "metadata": {
        "id": "sbGb-Lfvd0EH"
      },
      "execution_count": null,
      "outputs": []
    },
    {
      "cell_type": "code",
      "source": [
        "lr_accuracy = accuracy_score(y_test, y_pred)\n",
        "lr_precision = precision_score(y_test, y_pred, average='weighted')\n",
        "lr_recall = recall_score(y_test, y_pred, average='weighted')\n",
        "lr_f1 = f1_score(y_test, y_pred, average='weighted')\n",
        "\n",
        "# Create table data\n",
        "table_data = [\n",
        "    [\"Logistic Regression Accuracy\", f\"{lr_accuracy:.4f}\"],\n",
        "    [\"Logistic Regression Precision\", f\"{lr_precision:.4f}\"],\n",
        "    [\"Logistic Regression Recall\", f\"{lr_recall:.4f}\"],\n",
        "    [\"Logistic Regression F1-Score\", f\"{lr_f1:.4f}\"]\n",
        "]\n",
        "\n",
        "# Print data in tabular format\n",
        "print(tabulate(table_data, headers=[\"Metric\", \"Score\"], tablefmt=\"fancy_grid\"))"
      ],
      "metadata": {
        "colab": {
          "base_uri": "https://localhost:8080/"
        },
        "id": "uvlOcONMg2ji",
        "outputId": "bb823780-a95c-45a7-9348-8be9d6726fe6"
      },
      "execution_count": null,
      "outputs": [
        {
          "output_type": "stream",
          "name": "stdout",
          "text": [
            "╒═══════════════════════════════╤═════════╕\n",
            "│ Metric                        │   Score │\n",
            "╞═══════════════════════════════╪═════════╡\n",
            "│ Logistic Regression Accuracy  │  0.7276 │\n",
            "├───────────────────────────────┼─────────┤\n",
            "│ Logistic Regression Precision │  0.7666 │\n",
            "├───────────────────────────────┼─────────┤\n",
            "│ Logistic Regression Recall    │  0.7276 │\n",
            "├───────────────────────────────┼─────────┤\n",
            "│ Logistic Regression F1-Score  │  0.7326 │\n",
            "╘═══════════════════════════════╧═════════╛\n"
          ]
        }
      ]
    },
    {
      "cell_type": "code",
      "source": [
        "conf = confusion_matrix(y_pred, y_test)\n",
        "sns.heatmap(conf , cmap='YlGnBu', fmt='', xticklabels=['Adware' ,'Banking' ,'SMS malware', 'Riskware','Benign'], yticklabels=['Adware' ,'Banking' ,'SMS malware', 'Riskware','Benign'], annot=True)"
      ],
      "metadata": {
        "colab": {
          "base_uri": "https://localhost:8080/",
          "height": 447
        },
        "id": "y2BihirAg-bk",
        "outputId": "2532d23d-3177-4f51-c4af-467cbf879ac4"
      },
      "execution_count": null,
      "outputs": [
        {
          "output_type": "execute_result",
          "data": {
            "text/plain": [
              "<Axes: >"
            ]
          },
          "metadata": {},
          "execution_count": 31
        },
        {
          "output_type": "display_data",
          "data": {
            "text/plain": [
              "<Figure size 640x480 with 2 Axes>"
            ],
            "image/png": "[encoded data removed]"
          },
          "metadata": {}
        }
      ]
    },
    {
      "cell_type": "markdown",
      "source": [
        "# Model 4: SVM"
      ],
      "metadata": {
        "id": "_74ak49XhuxX"
      }
    },
    {
      "cell_type": "code",
      "source": [
        "SVmodel = SVC(kernel='linear', C=1.0, random_state=42)\n",
        "SVmodel.fit(X_train_std, y_train)\n",
        "\n",
        "# Predict labels on the test set\n",
        "y_pred = SVmodel.predict(X_test_std)"
      ],
      "metadata": {
        "id": "5U4I3tilhuTg"
      },
      "execution_count": null,
      "outputs": []
    },
    {
      "cell_type": "code",
      "source": [
        "svm_accuracy = accuracy_score(y_test, y_pred)\n",
        "svm_precision = precision_score(y_test, y_pred, average='weighted')\n",
        "svm_recall = recall_score(y_test, y_pred, average='weighted')\n",
        "svm_f1 = f1_score(y_test, y_pred, average='weighted')\n",
        "\n",
        "# Create table data\n",
        "table_data = [\n",
        "    [\"SVM Classifier Accuracy\", f\"{svm_accuracy:.4f}\"],\n",
        "    [\"SVM Classifier Precision\", f\"{svm_precision:.4f}\"],\n",
        "    [\"SVM Classifier Recall\", f\"{svm_recall:.4f}\"],\n",
        "    [\"SVM Classifier F1-Score\", f\"{svm_f1:.4f}\"]\n",
        "]\n",
        "\n",
        "# Print data in tabular format\n",
        "print(tabulate(table_data, headers=[\"Metric\", \"Score\"], tablefmt=\"fancy_grid\"))"
      ],
      "metadata": {
        "id": "SnP6tN5ohClm",
        "colab": {
          "base_uri": "https://localhost:8080/"
        },
        "outputId": "1e7213f1-1c38-415d-80da-7895c6bb05b8"
      },
      "execution_count": null,
      "outputs": [
        {
          "output_type": "stream",
          "name": "stdout",
          "text": [
            "╒══════════════════════════╤═════════╕\n",
            "│ Metric                   │   Score │\n",
            "╞══════════════════════════╪═════════╡\n",
            "│ SVM Classifier Accuracy  │  0.7556 │\n",
            "├──────────────────────────┼─────────┤\n",
            "│ SVM Classifier Precision │  0.7946 │\n",
            "├──────────────────────────┼─────────┤\n",
            "│ SVM Classifier Recall    │  0.7556 │\n",
            "├──────────────────────────┼─────────┤\n",
            "│ SVM Classifier F1-Score  │  0.7632 │\n",
            "╘══════════════════════════╧═════════╛\n"
          ]
        }
      ]
    },
    {
      "cell_type": "code",
      "source": [
        "conf = confusion_matrix(y_pred, y_test)\n",
        "sns.heatmap(conf , cmap='YlGnBu', fmt='', xticklabels=['Adware' ,'Banking' ,'SMS malware', 'Riskware','Benign'], yticklabels=['Adware' ,'Banking' ,'SMS malware', 'Riskware','Benign'], annot=True)"
      ],
      "metadata": {
        "id": "_lgkmZ35iGID",
        "colab": {
          "base_uri": "https://localhost:8080/",
          "height": 447
        },
        "outputId": "1c4b1923-9008-473f-a132-ec78c9853b6a"
      },
      "execution_count": null,
      "outputs": [
        {
          "output_type": "execute_result",
          "data": {
            "text/plain": [
              "<Axes: >"
            ]
          },
          "metadata": {},
          "execution_count": 34
        },
        {
          "output_type": "display_data",
          "data": {
            "text/plain": [
              "<Figure size 640x480 with 2 Axes>"
            ],
            "image/png": "[encoded data removed]"
          },
          "metadata": {}
        }
      ]
    },
    {
      "cell_type": "markdown",
      "source": [
        "# Model 5: K-Nearest Neighbors"
      ],
      "metadata": {
        "id": "lHPlURc2ziG7"
      }
    },
    {
      "cell_type": "code",
      "source": [
        "k_values = [2, 3, 5, 7, 9, 11]\n",
        "\n",
        "best_k = None\n",
        "best_accuracy = 0\n",
        "\n",
        "for k in k_values:\n",
        "    knn_model = KNeighborsClassifier(n_neighbors=k)\n",
        "    # Use cross-validation to evaluate the model\n",
        "    scores = cross_val_score(knn_model, X_train_std, y_train, cv=5, scoring='accuracy')\n",
        "    mean_accuracy = scores.mean()\n",
        "\n",
        "    if mean_accuracy > best_accuracy:\n",
        "        best_accuracy = mean_accuracy\n",
        "        best_k = k\n",
        "\n",
        "# Train the KNN model with the best k\n",
        "best_knn_model = KNeighborsClassifier(n_neighbors=best_k)\n",
        "best_knn_model.fit(X_train_std, y_train)\n",
        "\n",
        "# Predict labels on the test set\n",
        "y_pred = best_knn_model.predict(X_test_std)"
      ],
      "metadata": {
        "id": "m4ruvQxHiP8S"
      },
      "execution_count": null,
      "outputs": []
    },
    {
      "cell_type": "code",
      "source": [
        "# Calculate KNN classifier metrics\n",
        "knn_accuracy = accuracy_score(y_test, y_pred)\n",
        "knn_precision = precision_score(y_test, y_pred, average='weighted')\n",
        "knn_recall = recall_score(y_test, y_pred, average='weighted')\n",
        "knn_f1 = f1_score(y_test, y_pred, average='weighted')\n",
        "\n",
        "# Create table data\n",
        "table_data = [\n",
        "    [\"Best K:\", f\"{best_k}\"],\n",
        "    [\"K-Nearest Neighbors Classifier Accuracy\", f\"{knn_accuracy:.4f}\"],\n",
        "    [\"K-Nearest Neighbors Classifier Precision\", f\"{knn_precision:.4f}\"],\n",
        "    [\"K-Nearest Neighbors Classifier Recall\", f\"{knn_recall:.4f}\"],\n",
        "    [\"K-Nearest Neighbors Classifier F1-Score\", f\"{knn_f1:.4f}\"]\n",
        "]\n",
        "\n",
        "# Print data in tabular format\n",
        "print(tabulate(table_data, headers=[\"Metric\", \"Score\"], tablefmt=\"fancy_grid\"))"
      ],
      "metadata": {
        "id": "xyhbkD9rz5b3",
        "colab": {
          "base_uri": "https://localhost:8080/"
        },
        "outputId": "d5a368ac-09dd-4290-b7a4-63a45f8ac0e2"
      },
      "execution_count": null,
      "outputs": [
        {
          "output_type": "stream",
          "name": "stdout",
          "text": [
            "╒══════════════════════════════════════════╤═════════╕\n",
            "│ Metric                                   │   Score │\n",
            "╞══════════════════════════════════════════╪═════════╡\n",
            "│ Best K:                                  │  2      │\n",
            "├──────────────────────────────────────────┼─────────┤\n",
            "│ K-Nearest Neighbors Classifier Accuracy  │  0.8315 │\n",
            "├──────────────────────────────────────────┼─────────┤\n",
            "│ K-Nearest Neighbors Classifier Precision │  0.8351 │\n",
            "├──────────────────────────────────────────┼─────────┤\n",
            "│ K-Nearest Neighbors Classifier Recall    │  0.8315 │\n",
            "├──────────────────────────────────────────┼─────────┤\n",
            "│ K-Nearest Neighbors Classifier F1-Score  │  0.83   │\n",
            "╘══════════════════════════════════════════╧═════════╛\n"
          ]
        }
      ]
    },
    {
      "cell_type": "code",
      "source": [
        "conf = confusion_matrix(y_pred, y_test)\n",
        "sns.heatmap(conf , cmap='YlGnBu', fmt='', xticklabels=['Adware' ,'Banking' ,'SMS malware', 'Riskware','Benign'], yticklabels=['Adware' ,'Banking' ,'SMS malware', 'Riskware','Benign'], annot=True)"
      ],
      "metadata": {
        "id": "bVw-i1X410v6",
        "colab": {
          "base_uri": "https://localhost:8080/",
          "height": 447
        },
        "outputId": "e7b12547-bfd0-473c-be1b-f56e1fc2ae17"
      },
      "execution_count": null,
      "outputs": [
        {
          "output_type": "execute_result",
          "data": {
            "text/plain": [
              "<Axes: >"
            ]
          },
          "metadata": {},
          "execution_count": 37
        },
        {
          "output_type": "display_data",
          "data": {
            "text/plain": [
              "<Figure size 640x480 with 2 Axes>"
            ],
            "image/png": "[encoded data removed]"
          },
          "metadata": {}
        }
      ]
    },
    {
      "cell_type": "markdown",
      "source": [
        "# Model 6: XG Boost\n"
      ],
      "metadata": {
        "id": "LLEuVTVz15zc"
      }
    },
    {
      "cell_type": "code",
      "source": [
        "# for xgboost == 0.90 can use wihtout label encoder\n",
        "from sklearn.preprocessing import LabelEncoder\n",
        "le = LabelEncoder()\n",
        "xg_y_train = le.fit_transform(y_train)\n",
        "\n",
        "xg = XGBClassifier()\n",
        "xg.fit(X_train, xg_y_train)\n",
        "\n",
        "y_pred = xg.predict(X_test)\n",
        "y_pred = le.inverse_transform(y_pred)"
      ],
      "metadata": {
        "id": "VOIxOCDV2AvF"
      },
      "execution_count": null,
      "outputs": []
    },
    {
      "cell_type": "code",
      "source": [
        "# Calculate XGB classifier metrics\n",
        "xgb_accuracy = accuracy_score(y_test, y_pred)\n",
        "xgb_precision = precision_score(y_test, y_pred,average='weighted')\n",
        "xgb_recall = recall_score(y_test, y_pred,average='weighted')\n",
        "xgb_f1 = f1_score(y_test, y_pred,average='weighted')\n",
        "\n",
        "# Create table data\n",
        "table_data = [\n",
        "    [\"XG Boost Classifier Accuracy\", f\"{xgb_accuracy:.4f}\"],\n",
        "    [\"XG Boost Classifier Precision\", f\"{xgb_precision:.4f}\"],\n",
        "    [\"XG Boost Classifier Recall\", f\"{xgb_recall:.4f}\"],\n",
        "    [\"XG Boost Classifier F1-Score\", f\"{xgb_f1:.4f}\"]\n",
        "]\n",
        "\n",
        "# Print data in tabular format\n",
        "print(tabulate(table_data, headers=[\"Metric\", \"Score\"], tablefmt=\"fancy_grid\"))"
      ],
      "metadata": {
        "id": "_Yyx8zLz2H13",
        "colab": {
          "base_uri": "https://localhost:8080/"
        },
        "outputId": "c68a901b-36db-4441-e7bf-d66acaee558b"
      },
      "execution_count": null,
      "outputs": [
        {
          "output_type": "stream",
          "name": "stdout",
          "text": [
            "╒═══════════════════════════════╤═════════╕\n",
            "│ Metric                        │   Score │\n",
            "╞═══════════════════════════════╪═════════╡\n",
            "│ XG Boost Classifier Accuracy  │  0.9466 │\n",
            "├───────────────────────────────┼─────────┤\n",
            "│ XG Boost Classifier Precision │  0.9471 │\n",
            "├───────────────────────────────┼─────────┤\n",
            "│ XG Boost Classifier Recall    │  0.9466 │\n",
            "├───────────────────────────────┼─────────┤\n",
            "│ XG Boost Classifier F1-Score  │  0.9466 │\n",
            "╘═══════════════════════════════╧═════════╛\n"
          ]
        }
      ]
    },
    {
      "cell_type": "code",
      "source": [
        "conf = confusion_matrix(y_pred, y_test)\n",
        "sns.heatmap(conf , cmap='YlGnBu', fmt='', xticklabels=['Adware' ,'Banking' ,'SMS malware', 'Riskware','Benign'], yticklabels=['Adware' ,'Banking' ,'SMS malware', 'Riskware','Benign'], annot=True)"
      ],
      "metadata": {
        "id": "a9ljZanl2GVb",
        "colab": {
          "base_uri": "https://localhost:8080/",
          "height": 447
        },
        "outputId": "78b0232e-5cea-44b5-85d2-2c0cbcb4c388"
      },
      "execution_count": null,
      "outputs": [
        {
          "output_type": "execute_result",
          "data": {
            "text/plain": [
              "<Axes: >"
            ]
          },
          "metadata": {},
          "execution_count": 40
        },
        {
          "output_type": "display_data",
          "data": {
            "text/plain": [
              "<Figure size 640x480 with 2 Axes>"
            ],
            "image/png": "[encoded data removed]"
          },
          "metadata": {}
        }
      ]
    },
    {
      "cell_type": "markdown",
      "source": [
        "# Model 7: CNN-LSTM"
      ],
      "metadata": {
        "id": "eS5vzFgx7IeJ"
      }
    },
    {
      "cell_type": "code",
      "source": [
        "# to_categorical functon creates a numpy array for one-hot encoding based on the highest value in the column+1.\n",
        "# So we need to subtract 1 initially to get 5 classes instead of 6\n",
        "y_train = y_train - 1\n",
        "y_test = y_test - 1"
      ],
      "metadata": {
        "id": "n7tZwcGG7A7s"
      },
      "execution_count": null,
      "outputs": []
    },
    {
      "cell_type": "code",
      "source": [
        "y_train_one_hot = to_categorical(y_train)\n",
        "y_test_one_hot = to_categorical(y_test)"
      ],
      "metadata": {
        "id": "DNK5Tfwr7b8E"
      },
      "execution_count": null,
      "outputs": []
    },
    {
      "cell_type": "code",
      "source": [
        "model = Sequential()\n",
        "model.add(Conv1D(filters=128, kernel_size=7, strides=1, padding=\"same\", input_shape=(100, 1), activation='relu'))\n",
        "model.add(Conv1D(filters=128, kernel_size=5, strides=1, padding=\"same\", activation='relu'))\n",
        "model.add(Dropout(0.2))\n",
        "model.add(Conv1D(filters=128, kernel_size=3, strides=1, padding=\"same\", activation='relu'))\n",
        "model.add(MaxPool1D())\n",
        "model.add(Conv1D(filters=128, kernel_size=3, strides=1, padding=\"same\", activation='relu'))\n",
        "model.add(Dropout(0.2))\n",
        "model.add(LSTM(units = 256, return_sequences = False, dropout = 0.2))\n",
        "model.add(Dense(5, activation=\"softmax\"))"
      ],
      "metadata": {
        "id": "UTfWpVWP7cnq"
      },
      "execution_count": null,
      "outputs": []
    },
    {
      "cell_type": "code",
      "source": [
        "model.summary()"
      ],
      "metadata": {
        "id": "eW8eymmv7ehY",
        "colab": {
          "base_uri": "https://localhost:8080/"
        },
        "outputId": "92624b5d-9ee6-478c-d1f7-10f0126191e4"
      },
      "execution_count": null,
      "outputs": [
        {
          "output_type": "stream",
          "name": "stdout",
          "text": [
            "Model: \"sequential\"\n",
            "_________________________________________________________________\n",
            " Layer (type)                Output Shape              Param #   \n",
            "=================================================================\n",
            " conv1d (Conv1D)             (None, 100, 128)          1024      \n",
            "                                                                 \n",
            " conv1d_1 (Conv1D)           (None, 100, 128)          82048     \n",
            "                                                                 \n",
            " dropout (Dropout)           (None, 100, 128)          0         \n",
            "                                                                 \n",
            " conv1d_2 (Conv1D)           (None, 100, 128)          49280     \n",
            "                                                                 \n",
            " max_pooling1d (MaxPooling1  (None, 50, 128)           0         \n",
            " D)                                                              \n",
            "                                                                 \n",
            " conv1d_3 (Conv1D)           (None, 50, 128)           49280     \n",
            "                                                                 \n",
            " dropout_1 (Dropout)         (None, 50, 128)           0         \n",
            "                                                                 \n",
            " lstm (LSTM)                 (None, 256)               394240    \n",
            "                                                                 \n",
            " dense (Dense)               (None, 5)                 1285      \n",
            "                                                                 \n",
            "=================================================================\n",
            "Total params: 577157 (2.20 MB)\n",
            "Trainable params: 577157 (2.20 MB)\n",
            "Non-trainable params: 0 (0.00 Byte)\n",
            "_________________________________________________________________\n"
          ]
        }
      ]
    },
    {
      "cell_type": "code",
      "source": [
        "model.compile(loss='categorical_crossentropy', optimizer='adam', metrics=['accuracy'])"
      ],
      "metadata": {
        "id": "7uWUgp9U7gVz"
      },
      "execution_count": null,
      "outputs": []
    },
    {
      "cell_type": "code",
      "source": [
        "history = model.fit(X_train, y_train_one_hot, batch_size=32, epochs=300, validation_split=0.2, verbose=1)"
      ],
      "metadata": {
        "id": "_NG1GXl27iTl",
        "colab": {
          "base_uri": "https://localhost:8080/"
        },
        "outputId": "74c03afe-8c9b-48ad-b2ff-710cb4828651"
      },
      "execution_count": null,
      "outputs": [
        {
          "output_type": "stream",
          "name": "stdout",
          "text": [
            "Epoch 1/300\n",
            "391/391 [==============================] - 13s 13ms/step - loss: 1.2326 - accuracy: 0.5122 - val_loss: 1.6311 - val_accuracy: 0.3353\n",
            "Epoch 2/300\n",
            "391/391 [==============================] - 3s 8ms/step - loss: 1.0091 - accuracy: 0.6267 - val_loss: 1.3793 - val_accuracy: 0.4393\n",
            "Epoch 3/300\n",
            "391/391 [==============================] - 3s 8ms/step - loss: 0.8716 - accuracy: 0.6839 - val_loss: 1.2583 - val_accuracy: 0.5344\n",
            "Epoch 4/300\n",
            "391/391 [==============================] - 4s 10ms/step - loss: 0.7578 - accuracy: 0.7286 - val_loss: 1.0734 - val_accuracy: 0.6129\n",
            "Epoch 5/300\n",
            "391/391 [==============================] - 5s 12ms/step - loss: 0.6853 - accuracy: 0.7640 - val_loss: 1.1022 - val_accuracy: 0.6183\n",
            "Epoch 6/300\n",
            "391/391 [==============================] - 4s 9ms/step - loss: 0.6411 - accuracy: 0.7807 - val_loss: 0.8483 - val_accuracy: 0.6846\n",
            "Epoch 7/300\n",
            "391/391 [==============================] - 3s 8ms/step - loss: 0.5833 - accuracy: 0.8039 - val_loss: 0.7748 - val_accuracy: 0.7278\n",
            "Epoch 8/300\n",
            "391/391 [==============================] - 4s 10ms/step - loss: 0.5511 - accuracy: 0.8159 - val_loss: 1.0714 - val_accuracy: 0.6327\n",
            "Epoch 9/300\n",
            "391/391 [==============================] - 3s 9ms/step - loss: 0.5221 - accuracy: 0.8274 - val_loss: 0.6752 - val_accuracy: 0.7576\n",
            "Epoch 10/300\n",
            "391/391 [==============================] - 3s 9ms/step - loss: 0.4901 - accuracy: 0.8393 - val_loss: 0.7399 - val_accuracy: 0.7477\n",
            "Epoch 11/300\n",
            "391/391 [==============================] - 3s 9ms/step - loss: 0.4760 - accuracy: 0.8418 - val_loss: 0.6350 - val_accuracy: 0.7746\n",
            "Epoch 12/300\n",
            "391/391 [==============================] - 4s 10ms/step - loss: 0.4404 - accuracy: 0.8538 - val_loss: 0.5816 - val_accuracy: 0.8034\n",
            "Epoch 13/300\n",
            "391/391 [==============================] - 3s 9ms/step - loss: 0.4203 - accuracy: 0.8612 - val_loss: 0.5405 - val_accuracy: 0.8092\n",
            "Epoch 14/300\n",
            "391/391 [==============================] - 3s 8ms/step - loss: 0.4064 - accuracy: 0.8662 - val_loss: 0.6379 - val_accuracy: 0.7727\n",
            "Epoch 15/300\n",
            "391/391 [==============================] - 3s 8ms/step - loss: 0.3848 - accuracy: 0.8732 - val_loss: 0.5872 - val_accuracy: 0.7960\n",
            "Epoch 16/300\n",
            "391/391 [==============================] - 4s 9ms/step - loss: 0.3841 - accuracy: 0.8752 - val_loss: 0.5060 - val_accuracy: 0.8146\n",
            "Epoch 17/300\n",
            "391/391 [==============================] - 4s 9ms/step - loss: 0.3769 - accuracy: 0.8761 - val_loss: 0.5776 - val_accuracy: 0.7999\n",
            "Epoch 18/300\n",
            "391/391 [==============================] - 3s 9ms/step - loss: 0.3554 - accuracy: 0.8822 - val_loss: 0.4814 - val_accuracy: 0.8364\n",
            "Epoch 19/300\n",
            "391/391 [==============================] - 3s 8ms/step - loss: 0.3452 - accuracy: 0.8875 - val_loss: 0.4365 - val_accuracy: 0.8466\n",
            "Epoch 20/300\n",
            "391/391 [==============================] - 4s 10ms/step - loss: 0.3324 - accuracy: 0.8896 - val_loss: 0.3860 - val_accuracy: 0.8703\n",
            "Epoch 21/300\n",
            "391/391 [==============================] - 4s 10ms/step - loss: 0.3269 - accuracy: 0.8927 - val_loss: 0.4754 - val_accuracy: 0.8415\n",
            "Epoch 22/300\n",
            "391/391 [==============================] - 3s 8ms/step - loss: 0.3119 - accuracy: 0.8990 - val_loss: 0.4832 - val_accuracy: 0.8313\n",
            "Epoch 23/300\n",
            "391/391 [==============================] - 3s 9ms/step - loss: 0.3030 - accuracy: 0.9000 - val_loss: 0.4143 - val_accuracy: 0.8610\n",
            "Epoch 24/300\n",
            "391/391 [==============================] - 5s 12ms/step - loss: 0.2995 - accuracy: 0.9005 - val_loss: 0.3583 - val_accuracy: 0.8742\n",
            "Epoch 25/300\n",
            "391/391 [==============================] - 4s 9ms/step - loss: 0.2919 - accuracy: 0.9039 - val_loss: 0.4559 - val_accuracy: 0.8386\n",
            "Epoch 26/300\n",
            "391/391 [==============================] - 3s 8ms/step - loss: 0.2888 - accuracy: 0.9031 - val_loss: 0.4125 - val_accuracy: 0.8588\n",
            "Epoch 27/300\n",
            "391/391 [==============================] - 3s 8ms/step - loss: 0.2889 - accuracy: 0.9059 - val_loss: 0.4110 - val_accuracy: 0.8598\n",
            "Epoch 28/300\n",
            "391/391 [==============================] - 4s 10ms/step - loss: 0.2748 - accuracy: 0.9111 - val_loss: 0.4298 - val_accuracy: 0.8569\n",
            "Epoch 29/300\n",
            "391/391 [==============================] - 4s 10ms/step - loss: 0.2719 - accuracy: 0.9111 - val_loss: 0.3290 - val_accuracy: 0.8908\n",
            "Epoch 30/300\n",
            "391/391 [==============================] - 3s 8ms/step - loss: 0.2639 - accuracy: 0.9115 - val_loss: 0.4372 - val_accuracy: 0.8521\n",
            "Epoch 31/300\n",
            "391/391 [==============================] - 3s 8ms/step - loss: 0.2653 - accuracy: 0.9131 - val_loss: 0.4067 - val_accuracy: 0.8639\n",
            "Epoch 32/300\n",
            "391/391 [==============================] - 4s 9ms/step - loss: 0.2427 - accuracy: 0.9198 - val_loss: 0.5135 - val_accuracy: 0.8255\n",
            "Epoch 33/300\n",
            "391/391 [==============================] - 4s 10ms/step - loss: 0.2468 - accuracy: 0.9188 - val_loss: 0.3636 - val_accuracy: 0.8780\n",
            "Epoch 34/300\n",
            "391/391 [==============================] - 3s 9ms/step - loss: 0.2518 - accuracy: 0.9135 - val_loss: 0.3730 - val_accuracy: 0.8754\n",
            "Epoch 35/300\n",
            "391/391 [==============================] - 3s 8ms/step - loss: 0.2389 - accuracy: 0.9200 - val_loss: 0.3233 - val_accuracy: 0.8895\n",
            "Epoch 36/300\n",
            "391/391 [==============================] - 4s 9ms/step - loss: 0.2392 - accuracy: 0.9205 - val_loss: 0.4283 - val_accuracy: 0.8591\n",
            "Epoch 37/300\n",
            "391/391 [==============================] - 4s 10ms/step - loss: 0.2360 - accuracy: 0.9210 - val_loss: 0.3730 - val_accuracy: 0.8722\n",
            "Epoch 38/300\n",
            "391/391 [==============================] - 3s 8ms/step - loss: 0.2289 - accuracy: 0.9223 - val_loss: 0.3648 - val_accuracy: 0.8841\n",
            "Epoch 39/300\n",
            "391/391 [==============================] - 3s 8ms/step - loss: 0.2294 - accuracy: 0.9220 - val_loss: 0.3953 - val_accuracy: 0.8646\n",
            "Epoch 40/300\n",
            "391/391 [==============================] - 3s 9ms/step - loss: 0.2169 - accuracy: 0.9260 - val_loss: 0.3381 - val_accuracy: 0.8847\n",
            "Epoch 41/300\n",
            "391/391 [==============================] - 4s 11ms/step - loss: 0.2164 - accuracy: 0.9279 - val_loss: 0.3291 - val_accuracy: 0.8889\n",
            "Epoch 42/300\n",
            "391/391 [==============================] - 4s 11ms/step - loss: 0.2202 - accuracy: 0.9258 - val_loss: 0.3871 - val_accuracy: 0.8674\n",
            "Epoch 43/300\n",
            "391/391 [==============================] - 4s 9ms/step - loss: 0.2069 - accuracy: 0.9316 - val_loss: 0.3126 - val_accuracy: 0.8911\n",
            "Epoch 44/300\n",
            "391/391 [==============================] - 4s 9ms/step - loss: 0.1925 - accuracy: 0.9367 - val_loss: 0.3739 - val_accuracy: 0.8764\n",
            "Epoch 45/300\n",
            "391/391 [==============================] - 4s 10ms/step - loss: 0.1946 - accuracy: 0.9336 - val_loss: 0.2994 - val_accuracy: 0.8959\n",
            "Epoch 46/300\n",
            "391/391 [==============================] - 3s 8ms/step - loss: 0.2057 - accuracy: 0.9308 - val_loss: 0.3704 - val_accuracy: 0.8774\n",
            "Epoch 47/300\n",
            "391/391 [==============================] - 3s 8ms/step - loss: 0.2027 - accuracy: 0.9310 - val_loss: 0.3854 - val_accuracy: 0.8761\n",
            "Epoch 48/300\n",
            "391/391 [==============================] - 4s 9ms/step - loss: 0.2158 - accuracy: 0.9276 - val_loss: 0.4082 - val_accuracy: 0.8652\n",
            "Epoch 49/300\n",
            "391/391 [==============================] - 4s 11ms/step - loss: 0.2050 - accuracy: 0.9318 - val_loss: 0.3317 - val_accuracy: 0.8915\n",
            "Epoch 50/300\n",
            "391/391 [==============================] - 3s 8ms/step - loss: 0.2086 - accuracy: 0.9289 - val_loss: 0.3454 - val_accuracy: 0.8818\n",
            "Epoch 51/300\n",
            "391/391 [==============================] - 3s 8ms/step - loss: 0.1919 - accuracy: 0.9313 - val_loss: 0.3620 - val_accuracy: 0.8774\n",
            "Epoch 52/300\n",
            "391/391 [==============================] - 3s 9ms/step - loss: 0.2072 - accuracy: 0.9287 - val_loss: 0.3729 - val_accuracy: 0.8790\n",
            "Epoch 53/300\n",
            "391/391 [==============================] - 4s 10ms/step - loss: 0.1943 - accuracy: 0.9361 - val_loss: 0.3259 - val_accuracy: 0.8902\n",
            "Epoch 54/300\n",
            "391/391 [==============================] - 3s 8ms/step - loss: 0.1981 - accuracy: 0.9348 - val_loss: 0.3834 - val_accuracy: 0.8710\n",
            "Epoch 55/300\n",
            "391/391 [==============================] - 3s 8ms/step - loss: 0.1955 - accuracy: 0.9350 - val_loss: 0.3838 - val_accuracy: 0.8742\n",
            "Epoch 56/300\n",
            "391/391 [==============================] - 3s 8ms/step - loss: 0.1987 - accuracy: 0.9296 - val_loss: 0.3328 - val_accuracy: 0.8918\n",
            "Epoch 57/300\n",
            "391/391 [==============================] - 4s 10ms/step - loss: 0.1952 - accuracy: 0.9325 - val_loss: 0.3298 - val_accuracy: 0.9017\n",
            "Epoch 58/300\n",
            "391/391 [==============================] - 3s 9ms/step - loss: 0.1963 - accuracy: 0.9314 - val_loss: 0.3731 - val_accuracy: 0.8838\n",
            "Epoch 59/300\n",
            "391/391 [==============================] - 3s 8ms/step - loss: 0.1853 - accuracy: 0.9388 - val_loss: 0.3298 - val_accuracy: 0.8940\n",
            "Epoch 60/300\n",
            "391/391 [==============================] - 3s 8ms/step - loss: 0.1838 - accuracy: 0.9372 - val_loss: 0.3206 - val_accuracy: 0.8940\n",
            "Epoch 61/300\n",
            "391/391 [==============================] - 4s 10ms/step - loss: 0.1741 - accuracy: 0.9408 - val_loss: 0.3765 - val_accuracy: 0.8751\n",
            "Epoch 62/300\n",
            "391/391 [==============================] - 3s 9ms/step - loss: 0.1713 - accuracy: 0.9407 - val_loss: 0.3851 - val_accuracy: 0.8726\n",
            "Epoch 63/300\n",
            "391/391 [==============================] - 3s 8ms/step - loss: 0.1673 - accuracy: 0.9437 - val_loss: 0.3069 - val_accuracy: 0.8972\n",
            "Epoch 64/300\n",
            "391/391 [==============================] - 3s 8ms/step - loss: 0.1776 - accuracy: 0.9384 - val_loss: 0.3517 - val_accuracy: 0.8857\n",
            "Epoch 65/300\n",
            "391/391 [==============================] - 4s 10ms/step - loss: 0.1741 - accuracy: 0.9408 - val_loss: 0.3486 - val_accuracy: 0.8934\n",
            "Epoch 66/300\n",
            "391/391 [==============================] - 4s 9ms/step - loss: 0.1718 - accuracy: 0.9419 - val_loss: 0.2996 - val_accuracy: 0.9081\n",
            "Epoch 67/300\n",
            "391/391 [==============================] - 3s 8ms/step - loss: 0.1869 - accuracy: 0.9382 - val_loss: 0.3597 - val_accuracy: 0.8876\n",
            "Epoch 68/300\n",
            "391/391 [==============================] - 3s 8ms/step - loss: 0.1924 - accuracy: 0.9352 - val_loss: 0.4052 - val_accuracy: 0.8623\n",
            "Epoch 69/300\n",
            "391/391 [==============================] - 4s 9ms/step - loss: 0.1848 - accuracy: 0.9361 - val_loss: 0.3550 - val_accuracy: 0.8860\n",
            "Epoch 70/300\n",
            "391/391 [==============================] - 4s 10ms/step - loss: 0.1800 - accuracy: 0.9408 - val_loss: 0.3578 - val_accuracy: 0.8908\n",
            "Epoch 71/300\n",
            "391/391 [==============================] - 4s 9ms/step - loss: 0.1731 - accuracy: 0.9425 - val_loss: 0.3219 - val_accuracy: 0.8995\n",
            "Epoch 72/300\n",
            "391/391 [==============================] - 3s 8ms/step - loss: 0.1832 - accuracy: 0.9381 - val_loss: 0.3871 - val_accuracy: 0.8742\n",
            "Epoch 73/300\n",
            "391/391 [==============================] - 3s 9ms/step - loss: 0.1896 - accuracy: 0.9361 - val_loss: 0.3538 - val_accuracy: 0.8847\n",
            "Epoch 74/300\n",
            "391/391 [==============================] - 4s 11ms/step - loss: 0.1795 - accuracy: 0.9399 - val_loss: 0.3682 - val_accuracy: 0.8857\n",
            "Epoch 75/300\n",
            "391/391 [==============================] - 3s 8ms/step - loss: 0.1844 - accuracy: 0.9382 - val_loss: 0.3285 - val_accuracy: 0.8902\n",
            "Epoch 76/300\n",
            "391/391 [==============================] - 3s 8ms/step - loss: 0.1779 - accuracy: 0.9398 - val_loss: 0.3171 - val_accuracy: 0.8924\n",
            "Epoch 77/300\n",
            "391/391 [==============================] - 4s 9ms/step - loss: 0.1669 - accuracy: 0.9419 - val_loss: 0.3506 - val_accuracy: 0.8854\n",
            "Epoch 78/300\n",
            "391/391 [==============================] - 4s 10ms/step - loss: 0.1614 - accuracy: 0.9454 - val_loss: 0.3438 - val_accuracy: 0.8905\n",
            "Epoch 79/300\n",
            "391/391 [==============================] - 3s 8ms/step - loss: 0.1564 - accuracy: 0.9462 - val_loss: 0.3117 - val_accuracy: 0.8995\n",
            "Epoch 80/300\n",
            "391/391 [==============================] - 3s 8ms/step - loss: 0.1527 - accuracy: 0.9470 - val_loss: 0.3100 - val_accuracy: 0.9020\n",
            "Epoch 81/300\n",
            "391/391 [==============================] - 3s 8ms/step - loss: 0.1618 - accuracy: 0.9440 - val_loss: 0.3262 - val_accuracy: 0.9001\n",
            "Epoch 82/300\n",
            "391/391 [==============================] - 4s 11ms/step - loss: 0.1593 - accuracy: 0.9460 - val_loss: 0.3119 - val_accuracy: 0.8995\n",
            "Epoch 83/300\n",
            "391/391 [==============================] - 3s 9ms/step - loss: 0.1653 - accuracy: 0.9451 - val_loss: 0.3901 - val_accuracy: 0.8722\n",
            "Epoch 84/300\n",
            "391/391 [==============================] - 3s 8ms/step - loss: 0.1635 - accuracy: 0.9442 - val_loss: 0.3327 - val_accuracy: 0.8924\n",
            "Epoch 85/300\n",
            "391/391 [==============================] - 4s 9ms/step - loss: 0.1838 - accuracy: 0.9384 - val_loss: 0.3421 - val_accuracy: 0.8934\n",
            "Epoch 86/300\n",
            "391/391 [==============================] - 4s 11ms/step - loss: 0.1710 - accuracy: 0.9416 - val_loss: 0.3425 - val_accuracy: 0.8902\n",
            "Epoch 87/300\n",
            "391/391 [==============================] - 3s 8ms/step - loss: 0.1649 - accuracy: 0.9452 - val_loss: 0.3420 - val_accuracy: 0.8934\n",
            "Epoch 88/300\n",
            "391/391 [==============================] - 3s 8ms/step - loss: 0.1690 - accuracy: 0.9431 - val_loss: 0.2983 - val_accuracy: 0.9043\n",
            "Epoch 89/300\n",
            "391/391 [==============================] - 3s 8ms/step - loss: 0.1665 - accuracy: 0.9442 - val_loss: 0.3210 - val_accuracy: 0.8934\n",
            "Epoch 90/300\n",
            "391/391 [==============================] - 4s 11ms/step - loss: 0.1558 - accuracy: 0.9479 - val_loss: 0.3973 - val_accuracy: 0.8671\n",
            "Epoch 91/300\n",
            "391/391 [==============================] - 4s 9ms/step - loss: 0.1671 - accuracy: 0.9439 - val_loss: 0.3137 - val_accuracy: 0.8998\n",
            "Epoch 92/300\n",
            "391/391 [==============================] - 3s 8ms/step - loss: 0.1527 - accuracy: 0.9468 - val_loss: 0.3399 - val_accuracy: 0.8921\n",
            "Epoch 93/300\n",
            "391/391 [==============================] - 3s 8ms/step - loss: 0.1608 - accuracy: 0.9452 - val_loss: 0.3209 - val_accuracy: 0.9020\n",
            "Epoch 94/300\n",
            "391/391 [==============================] - 4s 11ms/step - loss: 0.1594 - accuracy: 0.9460 - val_loss: 0.3165 - val_accuracy: 0.8947\n",
            "Epoch 95/300\n",
            "391/391 [==============================] - 3s 9ms/step - loss: 0.1770 - accuracy: 0.9387 - val_loss: 0.3483 - val_accuracy: 0.8915\n",
            "Epoch 96/300\n",
            "391/391 [==============================] - 3s 9ms/step - loss: 0.1903 - accuracy: 0.9345 - val_loss: 0.3446 - val_accuracy: 0.8873\n",
            "Epoch 97/300\n",
            "391/391 [==============================] - 3s 8ms/step - loss: 0.1692 - accuracy: 0.9411 - val_loss: 0.3287 - val_accuracy: 0.8934\n",
            "Epoch 98/300\n",
            "391/391 [==============================] - 4s 10ms/step - loss: 0.1541 - accuracy: 0.9475 - val_loss: 0.2764 - val_accuracy: 0.9091\n",
            "Epoch 99/300\n",
            "391/391 [==============================] - 4s 9ms/step - loss: 0.1662 - accuracy: 0.9441 - val_loss: 0.3316 - val_accuracy: 0.8988\n",
            "Epoch 100/300\n",
            "391/391 [==============================] - 3s 8ms/step - loss: 0.1689 - accuracy: 0.9449 - val_loss: 0.3371 - val_accuracy: 0.8911\n",
            "Epoch 101/300\n",
            "391/391 [==============================] - 3s 8ms/step - loss: 0.1602 - accuracy: 0.9450 - val_loss: 0.3681 - val_accuracy: 0.8854\n",
            "Epoch 102/300\n",
            "391/391 [==============================] - 4s 11ms/step - loss: 0.1553 - accuracy: 0.9452 - val_loss: 0.3496 - val_accuracy: 0.8905\n",
            "Epoch 103/300\n",
            "391/391 [==============================] - 4s 10ms/step - loss: 0.1676 - accuracy: 0.9415 - val_loss: 0.3804 - val_accuracy: 0.8790\n",
            "Epoch 104/300\n",
            "391/391 [==============================] - 3s 8ms/step - loss: 0.1661 - accuracy: 0.9432 - val_loss: 0.2444 - val_accuracy: 0.9139\n",
            "Epoch 105/300\n",
            "391/391 [==============================] - 3s 8ms/step - loss: 0.1604 - accuracy: 0.9464 - val_loss: 0.3534 - val_accuracy: 0.8847\n",
            "Epoch 106/300\n",
            "391/391 [==============================] - 4s 11ms/step - loss: 0.1689 - accuracy: 0.9422 - val_loss: 0.3047 - val_accuracy: 0.9007\n",
            "Epoch 107/300\n",
            "391/391 [==============================] - 3s 9ms/step - loss: 0.1554 - accuracy: 0.9480 - val_loss: 0.3320 - val_accuracy: 0.8892\n",
            "Epoch 108/300\n",
            "391/391 [==============================] - 3s 9ms/step - loss: 0.1578 - accuracy: 0.9456 - val_loss: 0.2745 - val_accuracy: 0.9113\n",
            "Epoch 109/300\n",
            "391/391 [==============================] - 3s 8ms/step - loss: 0.1560 - accuracy: 0.9439 - val_loss: 0.2926 - val_accuracy: 0.8982\n",
            "Epoch 110/300\n",
            "391/391 [==============================] - 4s 10ms/step - loss: 0.1488 - accuracy: 0.9496 - val_loss: 0.3266 - val_accuracy: 0.8937\n",
            "Epoch 111/300\n",
            "391/391 [==============================] - 4s 9ms/step - loss: 0.1582 - accuracy: 0.9464 - val_loss: 0.3138 - val_accuracy: 0.8988\n",
            "Epoch 112/300\n",
            "391/391 [==============================] - 3s 8ms/step - loss: 0.1504 - accuracy: 0.9480 - val_loss: 0.3434 - val_accuracy: 0.8889\n",
            "Epoch 113/300\n",
            "391/391 [==============================] - 3s 8ms/step - loss: 0.1554 - accuracy: 0.9468 - val_loss: 0.3705 - val_accuracy: 0.8873\n",
            "Epoch 114/300\n",
            "391/391 [==============================] - 4s 9ms/step - loss: 0.1613 - accuracy: 0.9440 - val_loss: 0.3230 - val_accuracy: 0.9014\n",
            "Epoch 115/300\n",
            "391/391 [==============================] - 4s 10ms/step - loss: 0.1503 - accuracy: 0.9480 - val_loss: 0.2986 - val_accuracy: 0.9097\n",
            "Epoch 116/300\n",
            "391/391 [==============================] - 3s 8ms/step - loss: 0.1532 - accuracy: 0.9451 - val_loss: 0.2822 - val_accuracy: 0.9017\n",
            "Epoch 117/300\n",
            "391/391 [==============================] - 3s 8ms/step - loss: 0.1720 - accuracy: 0.9420 - val_loss: 0.2769 - val_accuracy: 0.9087\n",
            "Epoch 118/300\n",
            "391/391 [==============================] - 4s 9ms/step - loss: 0.1791 - accuracy: 0.9385 - val_loss: 0.4057 - val_accuracy: 0.8726\n",
            "Epoch 119/300\n",
            "391/391 [==============================] - 4s 11ms/step - loss: 0.1493 - accuracy: 0.9484 - val_loss: 0.3627 - val_accuracy: 0.8818\n",
            "Epoch 120/300\n",
            "391/391 [==============================] - 3s 8ms/step - loss: 0.1534 - accuracy: 0.9459 - val_loss: 0.3731 - val_accuracy: 0.8854\n",
            "Epoch 121/300\n",
            "391/391 [==============================] - 3s 8ms/step - loss: 0.1630 - accuracy: 0.9442 - val_loss: 0.3547 - val_accuracy: 0.8937\n",
            "Epoch 122/300\n",
            "391/391 [==============================] - 3s 9ms/step - loss: 0.1689 - accuracy: 0.9428 - val_loss: 0.3330 - val_accuracy: 0.8934\n",
            "Epoch 123/300\n",
            "391/391 [==============================] - 4s 11ms/step - loss: 0.1536 - accuracy: 0.9470 - val_loss: 0.3566 - val_accuracy: 0.8879\n",
            "Epoch 124/300\n",
            "391/391 [==============================] - 3s 8ms/step - loss: 0.1563 - accuracy: 0.9451 - val_loss: 0.3915 - val_accuracy: 0.8770\n",
            "Epoch 125/300\n",
            "391/391 [==============================] - 3s 8ms/step - loss: 0.1657 - accuracy: 0.9413 - val_loss: 0.4274 - val_accuracy: 0.8706\n",
            "Epoch 126/300\n",
            "391/391 [==============================] - 4s 9ms/step - loss: 0.1719 - accuracy: 0.9412 - val_loss: 0.3534 - val_accuracy: 0.8892\n",
            "Epoch 127/300\n",
            "391/391 [==============================] - 4s 11ms/step - loss: 0.1487 - accuracy: 0.9494 - val_loss: 0.3666 - val_accuracy: 0.8863\n",
            "Epoch 128/300\n",
            "391/391 [==============================] - 3s 8ms/step - loss: 0.1376 - accuracy: 0.9525 - val_loss: 0.3357 - val_accuracy: 0.8972\n",
            "Epoch 129/300\n",
            "391/391 [==============================] - 3s 8ms/step - loss: 0.1480 - accuracy: 0.9512 - val_loss: 0.3571 - val_accuracy: 0.8882\n",
            "Epoch 130/300\n",
            "391/391 [==============================] - 3s 8ms/step - loss: 0.1504 - accuracy: 0.9494 - val_loss: 0.3512 - val_accuracy: 0.8969\n",
            "Epoch 131/300\n",
            "391/391 [==============================] - 4s 10ms/step - loss: 0.1394 - accuracy: 0.9519 - val_loss: 0.3638 - val_accuracy: 0.8937\n",
            "Epoch 132/300\n",
            "391/391 [==============================] - 3s 9ms/step - loss: 0.1436 - accuracy: 0.9509 - val_loss: 0.3677 - val_accuracy: 0.8870\n",
            "Epoch 133/300\n",
            "391/391 [==============================] - 3s 8ms/step - loss: 0.1345 - accuracy: 0.9554 - val_loss: 0.3184 - val_accuracy: 0.9081\n",
            "Epoch 134/300\n",
            "391/391 [==============================] - 3s 8ms/step - loss: 0.1476 - accuracy: 0.9516 - val_loss: 0.4043 - val_accuracy: 0.8780\n",
            "Epoch 135/300\n",
            "391/391 [==============================] - 4s 11ms/step - loss: 0.1518 - accuracy: 0.9491 - val_loss: 0.3217 - val_accuracy: 0.9039\n",
            "Epoch 136/300\n",
            "391/391 [==============================] - 4s 9ms/step - loss: 0.1570 - accuracy: 0.9467 - val_loss: 0.3234 - val_accuracy: 0.8998\n",
            "Epoch 137/300\n",
            "391/391 [==============================] - 3s 8ms/step - loss: 0.1832 - accuracy: 0.9400 - val_loss: 0.3241 - val_accuracy: 0.8959\n",
            "Epoch 138/300\n",
            "391/391 [==============================] - 3s 8ms/step - loss: 0.1826 - accuracy: 0.9324 - val_loss: 0.3588 - val_accuracy: 0.8866\n",
            "Epoch 139/300\n",
            "391/391 [==============================] - 4s 10ms/step - loss: 0.1673 - accuracy: 0.9431 - val_loss: 0.3484 - val_accuracy: 0.8898\n",
            "Epoch 140/300\n",
            "391/391 [==============================] - 4s 9ms/step - loss: 0.1547 - accuracy: 0.9464 - val_loss: 0.3274 - val_accuracy: 0.9023\n",
            "Epoch 141/300\n",
            "391/391 [==============================] - 4s 9ms/step - loss: 0.1473 - accuracy: 0.9483 - val_loss: 0.4768 - val_accuracy: 0.8578\n",
            "Epoch 142/300\n",
            "391/391 [==============================] - 3s 8ms/step - loss: 0.1551 - accuracy: 0.9468 - val_loss: 0.3579 - val_accuracy: 0.8908\n",
            "Epoch 143/300\n",
            "391/391 [==============================] - 4s 10ms/step - loss: 0.1575 - accuracy: 0.9464 - val_loss: 0.2979 - val_accuracy: 0.9030\n",
            "Epoch 144/300\n",
            "391/391 [==============================] - 4s 9ms/step - loss: 0.1392 - accuracy: 0.9540 - val_loss: 0.3001 - val_accuracy: 0.9084\n",
            "Epoch 145/300\n",
            "391/391 [==============================] - 3s 8ms/step - loss: 0.1975 - accuracy: 0.9350 - val_loss: 0.3315 - val_accuracy: 0.8924\n",
            "Epoch 146/300\n",
            "391/391 [==============================] - 3s 9ms/step - loss: 0.1526 - accuracy: 0.9473 - val_loss: 0.3227 - val_accuracy: 0.8963\n",
            "Epoch 147/300\n",
            "391/391 [==============================] - 4s 10ms/step - loss: 0.1795 - accuracy: 0.9387 - val_loss: 0.3083 - val_accuracy: 0.9065\n",
            "Epoch 148/300\n",
            "391/391 [==============================] - 4s 9ms/step - loss: 0.1523 - accuracy: 0.9479 - val_loss: 0.2990 - val_accuracy: 0.9071\n",
            "Epoch 149/300\n",
            "391/391 [==============================] - 3s 9ms/step - loss: 0.1507 - accuracy: 0.9480 - val_loss: 0.3161 - val_accuracy: 0.9075\n",
            "Epoch 150/300\n",
            "391/391 [==============================] - 3s 8ms/step - loss: 0.1431 - accuracy: 0.9519 - val_loss: 0.3087 - val_accuracy: 0.9027\n",
            "Epoch 151/300\n",
            "391/391 [==============================] - 4s 9ms/step - loss: 0.1358 - accuracy: 0.9553 - val_loss: 0.3316 - val_accuracy: 0.8940\n",
            "Epoch 152/300\n",
            "391/391 [==============================] - 4s 10ms/step - loss: 0.1540 - accuracy: 0.9482 - val_loss: 0.3132 - val_accuracy: 0.8982\n",
            "Epoch 153/300\n",
            "391/391 [==============================] - 3s 8ms/step - loss: 0.1446 - accuracy: 0.9518 - val_loss: 0.3200 - val_accuracy: 0.8995\n",
            "Epoch 154/300\n",
            "391/391 [==============================] - 3s 8ms/step - loss: 0.1477 - accuracy: 0.9498 - val_loss: 0.3468 - val_accuracy: 0.8975\n",
            "Epoch 155/300\n",
            "391/391 [==============================] - 3s 9ms/step - loss: 0.1482 - accuracy: 0.9489 - val_loss: 0.3292 - val_accuracy: 0.8934\n",
            "Epoch 156/300\n",
            "391/391 [==============================] - 4s 11ms/step - loss: 0.1591 - accuracy: 0.9440 - val_loss: 0.3640 - val_accuracy: 0.8898\n",
            "Epoch 157/300\n",
            "391/391 [==============================] - 3s 8ms/step - loss: 0.1407 - accuracy: 0.9526 - val_loss: 0.3017 - val_accuracy: 0.9062\n",
            "Epoch 158/300\n",
            "391/391 [==============================] - 3s 8ms/step - loss: 0.1479 - accuracy: 0.9496 - val_loss: 0.3163 - val_accuracy: 0.8966\n",
            "Epoch 159/300\n",
            "391/391 [==============================] - 3s 8ms/step - loss: 0.1367 - accuracy: 0.9531 - val_loss: 0.3300 - val_accuracy: 0.8969\n",
            "Epoch 160/300\n",
            "391/391 [==============================] - 4s 11ms/step - loss: 0.1511 - accuracy: 0.9473 - val_loss: 0.3239 - val_accuracy: 0.8950\n",
            "Epoch 161/300\n",
            "391/391 [==============================] - 3s 8ms/step - loss: 0.1524 - accuracy: 0.9479 - val_loss: 0.2755 - val_accuracy: 0.9142\n",
            "Epoch 162/300\n",
            "391/391 [==============================] - 4s 9ms/step - loss: 0.1473 - accuracy: 0.9493 - val_loss: 0.3486 - val_accuracy: 0.8921\n",
            "Epoch 163/300\n",
            "391/391 [==============================] - 3s 8ms/step - loss: 0.1398 - accuracy: 0.9517 - val_loss: 0.3799 - val_accuracy: 0.8831\n",
            "Epoch 164/300\n",
            "391/391 [==============================] - 4s 11ms/step - loss: 0.1399 - accuracy: 0.9534 - val_loss: 0.3525 - val_accuracy: 0.8953\n",
            "Epoch 165/300\n",
            "391/391 [==============================] - 3s 8ms/step - loss: 0.1440 - accuracy: 0.9511 - val_loss: 0.4104 - val_accuracy: 0.8674\n",
            "Epoch 166/300\n",
            "391/391 [==============================] - 3s 9ms/step - loss: 0.1492 - accuracy: 0.9479 - val_loss: 0.3554 - val_accuracy: 0.8873\n",
            "Epoch 167/300\n",
            "391/391 [==============================] - 3s 8ms/step - loss: 0.1545 - accuracy: 0.9462 - val_loss: 0.3214 - val_accuracy: 0.8998\n",
            "Epoch 168/300\n",
            "391/391 [==============================] - 4s 11ms/step - loss: 0.1565 - accuracy: 0.9458 - val_loss: 0.3860 - val_accuracy: 0.8847\n",
            "Epoch 169/300\n",
            "391/391 [==============================] - 3s 9ms/step - loss: 0.1627 - accuracy: 0.9432 - val_loss: 0.3372 - val_accuracy: 0.8966\n",
            "Epoch 170/300\n",
            "391/391 [==============================] - 3s 9ms/step - loss: 0.1499 - accuracy: 0.9478 - val_loss: 0.3451 - val_accuracy: 0.8940\n",
            "Epoch 171/300\n",
            "391/391 [==============================] - 3s 8ms/step - loss: 0.1529 - accuracy: 0.9457 - val_loss: 0.3289 - val_accuracy: 0.9036\n",
            "Epoch 172/300\n",
            "391/391 [==============================] - 4s 11ms/step - loss: 0.1661 - accuracy: 0.9448 - val_loss: 0.4050 - val_accuracy: 0.8786\n",
            "Epoch 173/300\n",
            "391/391 [==============================] - 3s 9ms/step - loss: 0.1534 - accuracy: 0.9477 - val_loss: 0.3473 - val_accuracy: 0.8908\n",
            "Epoch 174/300\n",
            "391/391 [==============================] - 3s 8ms/step - loss: 0.1453 - accuracy: 0.9499 - val_loss: 0.3356 - val_accuracy: 0.8937\n",
            "Epoch 175/300\n",
            "391/391 [==============================] - 3s 8ms/step - loss: 0.1648 - accuracy: 0.9440 - val_loss: 0.3440 - val_accuracy: 0.8966\n",
            "Epoch 176/300\n",
            "391/391 [==============================] - 4s 10ms/step - loss: 0.1598 - accuracy: 0.9458 - val_loss: 0.3122 - val_accuracy: 0.9033\n",
            "Epoch 177/300\n",
            "391/391 [==============================] - 4s 9ms/step - loss: 0.1482 - accuracy: 0.9496 - val_loss: 0.2767 - val_accuracy: 0.9113\n",
            "Epoch 178/300\n",
            "391/391 [==============================] - 3s 9ms/step - loss: 0.1603 - accuracy: 0.9455 - val_loss: 0.3260 - val_accuracy: 0.8991\n",
            "Epoch 179/300\n",
            "391/391 [==============================] - 4s 9ms/step - loss: 0.1695 - accuracy: 0.9432 - val_loss: 0.3268 - val_accuracy: 0.9017\n",
            "Epoch 180/300\n",
            "391/391 [==============================] - 4s 10ms/step - loss: 0.1405 - accuracy: 0.9529 - val_loss: 0.2919 - val_accuracy: 0.9078\n",
            "Epoch 181/300\n",
            "391/391 [==============================] - 4s 9ms/step - loss: 0.1396 - accuracy: 0.9518 - val_loss: 0.3416 - val_accuracy: 0.8947\n",
            "Epoch 182/300\n",
            "391/391 [==============================] - 3s 8ms/step - loss: 0.1490 - accuracy: 0.9478 - val_loss: 0.3055 - val_accuracy: 0.9017\n",
            "Epoch 183/300\n",
            "391/391 [==============================] - 3s 9ms/step - loss: 0.1585 - accuracy: 0.9444 - val_loss: 0.3138 - val_accuracy: 0.9094\n",
            "Epoch 184/300\n",
            "391/391 [==============================] - 4s 10ms/step - loss: 0.1599 - accuracy: 0.9456 - val_loss: 0.3199 - val_accuracy: 0.8995\n",
            "Epoch 185/300\n",
            "391/391 [==============================] - 4s 9ms/step - loss: 0.1713 - accuracy: 0.9417 - val_loss: 0.3649 - val_accuracy: 0.8860\n",
            "Epoch 186/300\n",
            "391/391 [==============================] - 3s 8ms/step - loss: 0.1598 - accuracy: 0.9456 - val_loss: 0.2911 - val_accuracy: 0.9084\n",
            "Epoch 187/300\n",
            "391/391 [==============================] - 3s 8ms/step - loss: 0.1456 - accuracy: 0.9495 - val_loss: 0.3593 - val_accuracy: 0.8902\n",
            "Epoch 188/300\n",
            "391/391 [==============================] - 4s 10ms/step - loss: 0.1544 - accuracy: 0.9468 - val_loss: 0.3651 - val_accuracy: 0.8844\n",
            "Epoch 189/300\n",
            "391/391 [==============================] - 4s 9ms/step - loss: 0.1567 - accuracy: 0.9460 - val_loss: 0.4000 - val_accuracy: 0.8806\n",
            "Epoch 190/300\n",
            "391/391 [==============================] - 3s 8ms/step - loss: 0.1560 - accuracy: 0.9464 - val_loss: 0.3398 - val_accuracy: 0.8911\n",
            "Epoch 191/300\n",
            "391/391 [==============================] - 3s 8ms/step - loss: 0.1599 - accuracy: 0.9471 - val_loss: 0.3233 - val_accuracy: 0.8988\n",
            "Epoch 192/300\n",
            "391/391 [==============================] - 4s 10ms/step - loss: 0.1657 - accuracy: 0.9439 - val_loss: 0.3765 - val_accuracy: 0.8854\n",
            "Epoch 193/300\n",
            "391/391 [==============================] - 4s 10ms/step - loss: 0.1833 - accuracy: 0.9368 - val_loss: 0.3609 - val_accuracy: 0.8921\n",
            "Epoch 194/300\n",
            "391/391 [==============================] - 3s 8ms/step - loss: 0.1476 - accuracy: 0.9500 - val_loss: 0.2604 - val_accuracy: 0.9174\n",
            "Epoch 195/300\n",
            "391/391 [==============================] - 3s 8ms/step - loss: 0.1510 - accuracy: 0.9472 - val_loss: 0.3203 - val_accuracy: 0.9039\n",
            "Epoch 196/300\n",
            "391/391 [==============================] - 4s 9ms/step - loss: 0.1427 - accuracy: 0.9512 - val_loss: 0.3129 - val_accuracy: 0.9030\n",
            "Epoch 197/300\n",
            "391/391 [==============================] - 4s 10ms/step - loss: 0.1431 - accuracy: 0.9518 - val_loss: 0.3314 - val_accuracy: 0.9014\n",
            "Epoch 198/300\n",
            "391/391 [==============================] - 3s 8ms/step - loss: 0.1409 - accuracy: 0.9516 - val_loss: 0.3755 - val_accuracy: 0.8834\n",
            "Epoch 199/300\n",
            "391/391 [==============================] - 3s 8ms/step - loss: 0.1787 - accuracy: 0.9396 - val_loss: 0.3762 - val_accuracy: 0.8761\n",
            "Epoch 200/300\n",
            "391/391 [==============================] - 3s 8ms/step - loss: 0.1729 - accuracy: 0.9404 - val_loss: 0.3289 - val_accuracy: 0.8991\n",
            "Epoch 201/300\n",
            "391/391 [==============================] - 4s 11ms/step - loss: 0.1473 - accuracy: 0.9498 - val_loss: 0.3351 - val_accuracy: 0.8972\n",
            "Epoch 202/300\n",
            "391/391 [==============================] - 3s 8ms/step - loss: 0.1477 - accuracy: 0.9500 - val_loss: 0.3067 - val_accuracy: 0.9039\n",
            "Epoch 203/300\n",
            "391/391 [==============================] - 3s 8ms/step - loss: 0.1442 - accuracy: 0.9538 - val_loss: 0.3185 - val_accuracy: 0.9030\n",
            "Epoch 204/300\n",
            "391/391 [==============================] - 3s 8ms/step - loss: 0.1495 - accuracy: 0.9488 - val_loss: 0.4070 - val_accuracy: 0.8809\n",
            "Epoch 205/300\n",
            "391/391 [==============================] - 4s 11ms/step - loss: 0.1658 - accuracy: 0.9432 - val_loss: 0.3553 - val_accuracy: 0.8857\n",
            "Epoch 206/300\n",
            "391/391 [==============================] - 3s 9ms/step - loss: 0.1608 - accuracy: 0.9445 - val_loss: 0.3123 - val_accuracy: 0.9017\n",
            "Epoch 207/300\n",
            "391/391 [==============================] - 3s 8ms/step - loss: 0.1502 - accuracy: 0.9496 - val_loss: 0.3352 - val_accuracy: 0.8995\n",
            "Epoch 208/300\n",
            "391/391 [==============================] - 3s 8ms/step - loss: 0.1588 - accuracy: 0.9448 - val_loss: 0.4141 - val_accuracy: 0.8825\n",
            "Epoch 209/300\n",
            "391/391 [==============================] - 4s 10ms/step - loss: 0.1428 - accuracy: 0.9514 - val_loss: 0.3956 - val_accuracy: 0.8860\n",
            "Epoch 210/300\n",
            "391/391 [==============================] - 4s 9ms/step - loss: 0.1353 - accuracy: 0.9519 - val_loss: 0.3306 - val_accuracy: 0.8972\n",
            "Epoch 211/300\n",
            "391/391 [==============================] - 3s 8ms/step - loss: 0.1453 - accuracy: 0.9500 - val_loss: 0.3364 - val_accuracy: 0.8969\n",
            "Epoch 212/300\n",
            "391/391 [==============================] - 3s 8ms/step - loss: 0.1547 - accuracy: 0.9465 - val_loss: 0.4142 - val_accuracy: 0.8738\n",
            "Epoch 213/300\n",
            "391/391 [==============================] - 4s 10ms/step - loss: 0.1573 - accuracy: 0.9454 - val_loss: 0.3058 - val_accuracy: 0.9046\n",
            "Epoch 214/300\n",
            "391/391 [==============================] - 4s 10ms/step - loss: 0.1546 - accuracy: 0.9484 - val_loss: 0.3752 - val_accuracy: 0.8844\n",
            "Epoch 215/300\n",
            "391/391 [==============================] - 3s 8ms/step - loss: 0.1513 - accuracy: 0.9484 - val_loss: 0.3337 - val_accuracy: 0.8972\n",
            "Epoch 216/300\n",
            "391/391 [==============================] - 3s 8ms/step - loss: 0.1495 - accuracy: 0.9485 - val_loss: 0.3378 - val_accuracy: 0.8937\n",
            "Epoch 217/300\n",
            "391/391 [==============================] - 4s 10ms/step - loss: 0.1657 - accuracy: 0.9447 - val_loss: 0.3068 - val_accuracy: 0.9068\n",
            "Epoch 218/300\n",
            "391/391 [==============================] - 4s 9ms/step - loss: 0.1677 - accuracy: 0.9427 - val_loss: 0.3947 - val_accuracy: 0.8825\n",
            "Epoch 219/300\n",
            "391/391 [==============================] - 3s 8ms/step - loss: 0.1547 - accuracy: 0.9476 - val_loss: 0.3869 - val_accuracy: 0.8854\n",
            "Epoch 220/300\n",
            "391/391 [==============================] - 3s 8ms/step - loss: 0.1702 - accuracy: 0.9399 - val_loss: 0.3962 - val_accuracy: 0.8857\n",
            "Epoch 221/300\n",
            "391/391 [==============================] - 4s 10ms/step - loss: 0.1629 - accuracy: 0.9444 - val_loss: 0.3966 - val_accuracy: 0.8809\n",
            "Epoch 222/300\n",
            "391/391 [==============================] - 4s 10ms/step - loss: 0.1567 - accuracy: 0.9458 - val_loss: 0.3475 - val_accuracy: 0.8898\n",
            "Epoch 223/300\n",
            "391/391 [==============================] - 4s 9ms/step - loss: 0.1562 - accuracy: 0.9464 - val_loss: 0.4205 - val_accuracy: 0.8774\n",
            "Epoch 224/300\n",
            "391/391 [==============================] - 3s 8ms/step - loss: 0.1654 - accuracy: 0.9433 - val_loss: 0.3311 - val_accuracy: 0.8959\n",
            "Epoch 225/300\n",
            "391/391 [==============================] - 4s 9ms/step - loss: 0.1620 - accuracy: 0.9457 - val_loss: 0.3231 - val_accuracy: 0.8979\n",
            "Epoch 226/300\n",
            "391/391 [==============================] - 4s 10ms/step - loss: 0.1606 - accuracy: 0.9454 - val_loss: 0.3602 - val_accuracy: 0.8895\n",
            "Epoch 227/300\n",
            "391/391 [==============================] - 3s 8ms/step - loss: 0.1584 - accuracy: 0.9440 - val_loss: 0.3201 - val_accuracy: 0.9030\n",
            "Epoch 228/300\n",
            "391/391 [==============================] - 3s 8ms/step - loss: 0.1611 - accuracy: 0.9444 - val_loss: 0.3161 - val_accuracy: 0.9078\n",
            "Epoch 229/300\n",
            "391/391 [==============================] - 4s 9ms/step - loss: 0.1388 - accuracy: 0.9524 - val_loss: 0.3329 - val_accuracy: 0.9017\n",
            "Epoch 230/300\n",
            "391/391 [==============================] - 4s 10ms/step - loss: 0.1642 - accuracy: 0.9445 - val_loss: 0.3316 - val_accuracy: 0.8985\n",
            "Epoch 231/300\n",
            "391/391 [==============================] - 3s 8ms/step - loss: 0.1658 - accuracy: 0.9431 - val_loss: 0.3693 - val_accuracy: 0.8927\n",
            "Epoch 232/300\n",
            "391/391 [==============================] - 3s 8ms/step - loss: 0.1660 - accuracy: 0.9435 - val_loss: 0.3641 - val_accuracy: 0.8911\n",
            "Epoch 233/300\n",
            "391/391 [==============================] - 3s 8ms/step - loss: 0.1457 - accuracy: 0.9500 - val_loss: 0.3479 - val_accuracy: 0.8895\n",
            "Epoch 234/300\n",
            "391/391 [==============================] - 4s 11ms/step - loss: 0.1503 - accuracy: 0.9486 - val_loss: 0.3190 - val_accuracy: 0.9062\n",
            "Epoch 235/300\n",
            "391/391 [==============================] - 3s 8ms/step - loss: 0.1500 - accuracy: 0.9499 - val_loss: 0.3528 - val_accuracy: 0.8918\n",
            "Epoch 236/300\n",
            "391/391 [==============================] - 3s 8ms/step - loss: 0.1702 - accuracy: 0.9416 - val_loss: 0.3516 - val_accuracy: 0.8876\n",
            "Epoch 237/300\n",
            "391/391 [==============================] - 4s 9ms/step - loss: 0.1970 - accuracy: 0.9336 - val_loss: 0.3427 - val_accuracy: 0.8940\n",
            "Epoch 238/300\n",
            "391/391 [==============================] - 4s 11ms/step - loss: 0.1666 - accuracy: 0.9426 - val_loss: 0.4070 - val_accuracy: 0.8774\n",
            "Epoch 239/300\n",
            "391/391 [==============================] - 3s 8ms/step - loss: 0.1699 - accuracy: 0.9412 - val_loss: 0.3543 - val_accuracy: 0.8915\n",
            "Epoch 240/300\n",
            "391/391 [==============================] - 3s 8ms/step - loss: 0.1712 - accuracy: 0.9404 - val_loss: 0.3456 - val_accuracy: 0.8953\n",
            "Epoch 241/300\n",
            "391/391 [==============================] - 4s 9ms/step - loss: 0.1711 - accuracy: 0.9428 - val_loss: 0.3640 - val_accuracy: 0.8882\n",
            "Epoch 242/300\n",
            "391/391 [==============================] - 4s 11ms/step - loss: 0.1870 - accuracy: 0.9370 - val_loss: 0.3716 - val_accuracy: 0.8866\n",
            "Epoch 243/300\n",
            "391/391 [==============================] - 3s 8ms/step - loss: 0.1690 - accuracy: 0.9422 - val_loss: 0.3357 - val_accuracy: 0.8972\n",
            "Epoch 244/300\n",
            "391/391 [==============================] - 3s 8ms/step - loss: 0.1645 - accuracy: 0.9437 - val_loss: 0.3772 - val_accuracy: 0.8793\n",
            "Epoch 245/300\n",
            "391/391 [==============================] - 3s 8ms/step - loss: 0.1692 - accuracy: 0.9409 - val_loss: 0.3770 - val_accuracy: 0.8834\n",
            "Epoch 246/300\n",
            "391/391 [==============================] - 4s 11ms/step - loss: 0.1664 - accuracy: 0.9426 - val_loss: 0.3316 - val_accuracy: 0.8943\n",
            "Epoch 247/300\n",
            "391/391 [==============================] - 4s 10ms/step - loss: 0.1722 - accuracy: 0.9413 - val_loss: 0.3177 - val_accuracy: 0.8985\n",
            "Epoch 248/300\n",
            "391/391 [==============================] - 4s 10ms/step - loss: 0.1770 - accuracy: 0.9394 - val_loss: 0.3522 - val_accuracy: 0.8838\n",
            "Epoch 249/300\n",
            "391/391 [==============================] - 4s 10ms/step - loss: 0.1652 - accuracy: 0.9435 - val_loss: 0.3154 - val_accuracy: 0.8979\n",
            "Epoch 250/300\n",
            "391/391 [==============================] - 4s 10ms/step - loss: 0.1641 - accuracy: 0.9440 - val_loss: 0.3600 - val_accuracy: 0.8873\n",
            "Epoch 251/300\n",
            "391/391 [==============================] - 3s 8ms/step - loss: 0.1608 - accuracy: 0.9443 - val_loss: 0.3616 - val_accuracy: 0.8911\n",
            "Epoch 252/300\n",
            "391/391 [==============================] - 3s 8ms/step - loss: 0.1852 - accuracy: 0.9373 - val_loss: 0.4117 - val_accuracy: 0.8703\n",
            "Epoch 253/300\n",
            "391/391 [==============================] - 3s 9ms/step - loss: 0.2020 - accuracy: 0.9311 - val_loss: 0.3656 - val_accuracy: 0.8915\n",
            "Epoch 254/300\n",
            "391/391 [==============================] - 4s 11ms/step - loss: 0.1849 - accuracy: 0.9358 - val_loss: 0.3553 - val_accuracy: 0.8879\n",
            "Epoch 255/300\n",
            "391/391 [==============================] - 3s 8ms/step - loss: 0.1856 - accuracy: 0.9383 - val_loss: 0.4070 - val_accuracy: 0.8738\n",
            "Epoch 256/300\n",
            "391/391 [==============================] - 4s 9ms/step - loss: 0.1913 - accuracy: 0.9337 - val_loss: 0.4028 - val_accuracy: 0.8671\n",
            "Epoch 257/300\n",
            "391/391 [==============================] - 4s 9ms/step - loss: 0.1831 - accuracy: 0.9379 - val_loss: 0.4199 - val_accuracy: 0.8738\n",
            "Epoch 258/300\n",
            "391/391 [==============================] - 4s 10ms/step - loss: 0.1901 - accuracy: 0.9373 - val_loss: 0.3719 - val_accuracy: 0.8754\n",
            "Epoch 259/300\n",
            "391/391 [==============================] - 3s 8ms/step - loss: 0.1628 - accuracy: 0.9431 - val_loss: 0.3781 - val_accuracy: 0.8818\n",
            "Epoch 260/300\n",
            "391/391 [==============================] - 3s 8ms/step - loss: 0.1578 - accuracy: 0.9446 - val_loss: 0.3509 - val_accuracy: 0.8911\n",
            "Epoch 261/300\n",
            "391/391 [==============================] - 4s 9ms/step - loss: 0.1903 - accuracy: 0.9354 - val_loss: 0.3433 - val_accuracy: 0.8886\n",
            "Epoch 262/300\n",
            "391/391 [==============================] - 4s 11ms/step - loss: 0.1704 - accuracy: 0.9428 - val_loss: 0.3362 - val_accuracy: 0.8937\n",
            "Epoch 263/300\n",
            "391/391 [==============================] - 3s 8ms/step - loss: 0.1718 - accuracy: 0.9420 - val_loss: 0.3459 - val_accuracy: 0.8943\n",
            "Epoch 264/300\n",
            "391/391 [==============================] - 3s 8ms/step - loss: 0.1856 - accuracy: 0.9355 - val_loss: 0.3740 - val_accuracy: 0.8809\n",
            "Epoch 265/300\n",
            "391/391 [==============================] - 4s 9ms/step - loss: 0.1732 - accuracy: 0.9393 - val_loss: 0.3681 - val_accuracy: 0.8905\n",
            "Epoch 266/300\n",
            "391/391 [==============================] - 4s 11ms/step - loss: 0.1663 - accuracy: 0.9424 - val_loss: 0.3819 - val_accuracy: 0.8738\n",
            "Epoch 267/300\n",
            "391/391 [==============================] - 3s 8ms/step - loss: 0.1769 - accuracy: 0.9387 - val_loss: 0.3464 - val_accuracy: 0.8953\n",
            "Epoch 268/300\n",
            "391/391 [==============================] - 4s 9ms/step - loss: 0.1554 - accuracy: 0.9471 - val_loss: 0.3647 - val_accuracy: 0.8854\n",
            "Epoch 269/300\n",
            "391/391 [==============================] - 4s 9ms/step - loss: 0.1807 - accuracy: 0.9382 - val_loss: 0.3891 - val_accuracy: 0.8767\n",
            "Epoch 270/300\n",
            "391/391 [==============================] - 4s 11ms/step - loss: 0.1832 - accuracy: 0.9368 - val_loss: 0.3891 - val_accuracy: 0.8796\n",
            "Epoch 271/300\n",
            "391/391 [==============================] - 3s 8ms/step - loss: 0.1715 - accuracy: 0.9396 - val_loss: 0.3685 - val_accuracy: 0.8876\n",
            "Epoch 272/300\n",
            "391/391 [==============================] - 3s 8ms/step - loss: 0.1869 - accuracy: 0.9359 - val_loss: 0.4124 - val_accuracy: 0.8687\n",
            "Epoch 273/300\n",
            "391/391 [==============================] - 3s 9ms/step - loss: 0.1993 - accuracy: 0.9324 - val_loss: 0.3762 - val_accuracy: 0.8777\n",
            "Epoch 274/300\n",
            "391/391 [==============================] - 4s 11ms/step - loss: 0.2089 - accuracy: 0.9284 - val_loss: 0.3741 - val_accuracy: 0.8751\n",
            "Epoch 275/300\n",
            "391/391 [==============================] - 4s 10ms/step - loss: 0.1900 - accuracy: 0.9345 - val_loss: 0.4035 - val_accuracy: 0.8713\n",
            "Epoch 276/300\n",
            "391/391 [==============================] - 3s 8ms/step - loss: 0.1902 - accuracy: 0.9353 - val_loss: 0.4501 - val_accuracy: 0.8553\n",
            "Epoch 277/300\n",
            "391/391 [==============================] - 4s 10ms/step - loss: 0.1939 - accuracy: 0.9366 - val_loss: 0.3915 - val_accuracy: 0.8822\n",
            "Epoch 278/300\n",
            "391/391 [==============================] - 5s 13ms/step - loss: 0.1723 - accuracy: 0.9428 - val_loss: 0.3933 - val_accuracy: 0.8777\n",
            "Epoch 279/300\n",
            "391/391 [==============================] - 4s 10ms/step - loss: 0.1998 - accuracy: 0.9327 - val_loss: 0.3657 - val_accuracy: 0.8854\n",
            "Epoch 280/300\n",
            "391/391 [==============================] - 4s 9ms/step - loss: 0.2003 - accuracy: 0.9328 - val_loss: 0.3892 - val_accuracy: 0.8815\n",
            "Epoch 281/300\n",
            "391/391 [==============================] - 3s 8ms/step - loss: 0.1979 - accuracy: 0.9332 - val_loss: 0.3740 - val_accuracy: 0.8770\n",
            "Epoch 282/300\n",
            "391/391 [==============================] - 4s 10ms/step - loss: 0.1960 - accuracy: 0.9315 - val_loss: 0.3716 - val_accuracy: 0.8818\n",
            "Epoch 283/300\n",
            "391/391 [==============================] - 4s 10ms/step - loss: 0.1861 - accuracy: 0.9373 - val_loss: 0.3702 - val_accuracy: 0.8818\n",
            "Epoch 284/300\n",
            "391/391 [==============================] - 3s 8ms/step - loss: 0.1846 - accuracy: 0.9349 - val_loss: 0.3716 - val_accuracy: 0.8841\n",
            "Epoch 285/300\n",
            "391/391 [==============================] - 3s 8ms/step - loss: 0.1756 - accuracy: 0.9411 - val_loss: 0.4393 - val_accuracy: 0.8668\n",
            "Epoch 286/300\n",
            "391/391 [==============================] - 4s 10ms/step - loss: 0.1855 - accuracy: 0.9354 - val_loss: 0.3255 - val_accuracy: 0.8969\n",
            "Epoch 287/300\n",
            "391/391 [==============================] - 4s 10ms/step - loss: 0.1677 - accuracy: 0.9423 - val_loss: 0.3695 - val_accuracy: 0.8838\n",
            "Epoch 288/300\n",
            "391/391 [==============================] - 3s 8ms/step - loss: 0.1792 - accuracy: 0.9388 - val_loss: 0.3467 - val_accuracy: 0.8927\n",
            "Epoch 289/300\n",
            "391/391 [==============================] - 3s 9ms/step - loss: 0.1616 - accuracy: 0.9433 - val_loss: 0.4004 - val_accuracy: 0.8735\n",
            "Epoch 290/300\n",
            "391/391 [==============================] - 4s 9ms/step - loss: 0.1666 - accuracy: 0.9413 - val_loss: 0.3939 - val_accuracy: 0.8799\n",
            "Epoch 291/300\n",
            "391/391 [==============================] - 4s 10ms/step - loss: 0.1869 - accuracy: 0.9367 - val_loss: 0.4376 - val_accuracy: 0.8652\n",
            "Epoch 292/300\n",
            "391/391 [==============================] - 3s 8ms/step - loss: 0.1983 - accuracy: 0.9346 - val_loss: 0.3922 - val_accuracy: 0.8770\n",
            "Epoch 293/300\n",
            "391/391 [==============================] - 3s 8ms/step - loss: 0.1904 - accuracy: 0.9349 - val_loss: 0.3734 - val_accuracy: 0.8834\n",
            "Epoch 294/300\n",
            "391/391 [==============================] - 3s 9ms/step - loss: 0.1801 - accuracy: 0.9383 - val_loss: 0.3704 - val_accuracy: 0.8854\n",
            "Epoch 295/300\n",
            "391/391 [==============================] - 4s 11ms/step - loss: 0.1780 - accuracy: 0.9396 - val_loss: 0.3615 - val_accuracy: 0.8886\n",
            "Epoch 296/300\n",
            "391/391 [==============================] - 3s 8ms/step - loss: 0.1864 - accuracy: 0.9355 - val_loss: 0.3664 - val_accuracy: 0.8815\n",
            "Epoch 297/300\n",
            "391/391 [==============================] - 3s 8ms/step - loss: 0.1768 - accuracy: 0.9400 - val_loss: 0.3614 - val_accuracy: 0.8844\n",
            "Epoch 298/300\n",
            "391/391 [==============================] - 3s 9ms/step - loss: 0.1841 - accuracy: 0.9368 - val_loss: 0.3491 - val_accuracy: 0.8876\n",
            "Epoch 299/300\n",
            "391/391 [==============================] - 4s 11ms/step - loss: 0.2051 - accuracy: 0.9311 - val_loss: 0.4704 - val_accuracy: 0.8553\n",
            "Epoch 300/300\n",
            "391/391 [==============================] - 3s 9ms/step - loss: 0.2514 - accuracy: 0.9149 - val_loss: 0.4075 - val_accuracy: 0.8742\n"
          ]
        }
      ]
    },
    {
      "cell_type": "code",
      "source": [
        "fig, ax = plt.subplots(1,2, figsize=[12,6])\n",
        "ax[0].plot(history.history[\"loss\"])\n",
        "ax[0].plot(history.history[\"val_loss\"])\n",
        "ax[0].set_title(\" Loss\")\n",
        "ax[0].legend((\"Training\", \"validation\"), loc=\"upper right\")\n",
        "ax[0].set_xlabel(\"Epochs\")\n",
        "ax[1].plot(history.history[\"accuracy\"])\n",
        "ax[1].plot(history.history[\"val_accuracy\"])\n",
        "ax[1].legend((\"Training\", \"validation\"), loc=\"lower right\")\n",
        "ax[1].set_title(\"Accuracy\")\n",
        "ax[1].set_xlabel(\"Epochs\")"
      ],
      "metadata": {
        "id": "PjmIpTM37kQl",
        "colab": {
          "base_uri": "https://localhost:8080/",
          "height": 581
        },
        "outputId": "eeec70fd-6c02-4761-d5bb-56eea9499bb3"
      },
      "execution_count": null,
      "outputs": [
        {
          "output_type": "execute_result",
          "data": {
            "text/plain": [
              "Text(0.5, 0, 'Epochs')"
            ]
          },
          "metadata": {},
          "execution_count": 47
        },
        {
          "output_type": "display_data",
          "data": {
            "text/plain": [
              "<Figure size 1200x600 with 2 Axes>"
            ],
            "image/png": "[encoded data removed]"
          },
          "metadata": {}
        }
      ]
    },
    {
      "cell_type": "code",
      "source": [
        "y_pred = model.predict(X_test)"
      ],
      "metadata": {
        "id": "TQw2XHRX7xVy",
        "colab": {
          "base_uri": "https://localhost:8080/"
        },
        "outputId": "30580c0b-bdea-4764-db8f-d6fcec3ba80d"
      },
      "execution_count": null,
      "outputs": [
        {
          "output_type": "stream",
          "name": "stdout",
          "text": [
            "73/73 [==============================] - 1s 7ms/step\n"
          ]
        }
      ]
    },
    {
      "cell_type": "code",
      "source": [
        "y_test_categorical = np.argmax(y_test_one_hot, axis=1)\n",
        "y_pred_categorical = np.argmax(y_pred, axis=1)\n",
        "\n",
        "# Generate classification report\n",
        "report = classification_report(y_test_categorical, y_pred_categorical)\n",
        "print(report)"
      ],
      "metadata": {
        "id": "yzrTiTKa7z_Y",
        "colab": {
          "base_uri": "https://localhost:8080/"
        },
        "outputId": "8b041e4f-8264-4fd7-ae54-c9bec3cfa17a"
      },
      "execution_count": null,
      "outputs": [
        {
          "output_type": "stream",
          "name": "stdout",
          "text": [
            "              precision    recall  f1-score   support\n",
            "\n",
            "           0       0.77      0.88      0.82       251\n",
            "           1       0.89      0.87      0.88       420\n",
            "           2       0.96      0.98      0.97       781\n",
            "           3       0.92      0.87      0.90       509\n",
            "           4       0.86      0.81      0.83       359\n",
            "\n",
            "    accuracy                           0.90      2320\n",
            "   macro avg       0.88      0.88      0.88      2320\n",
            "weighted avg       0.90      0.90      0.90      2320\n",
            "\n"
          ]
        }
      ]
    },
    {
      "cell_type": "code",
      "source": [
        "cnn_accuracy = accuracy_score(y_test_categorical, y_pred_categorical)\n",
        "cnn_precision = precision_score(y_test_categorical, y_pred_categorical, average='weighted')\n",
        "cnn_recall = recall_score(y_test_categorical, y_pred_categorical, average='weighted')\n",
        "cnn_f1 = f1_score(y_test_categorical, y_pred_categorical, average='weighted')"
      ],
      "metadata": {
        "id": "CASzwzll717o"
      },
      "execution_count": null,
      "outputs": []
    },
    {
      "cell_type": "code",
      "source": [
        "conf = confusion_matrix(y_pred_categorical, y_test_categorical)\n",
        "sns.heatmap(conf , cmap='YlGnBu', fmt='', xticklabels=['Adware' ,'Banking' ,'SMS malware', 'Riskware','Benign'], yticklabels=['Adware' ,'Banking' ,'SMS malware', 'Riskware','Benign'], annot=True)"
      ],
      "metadata": {
        "id": "mpw7CuLz76JS",
        "colab": {
          "base_uri": "https://localhost:8080/",
          "height": 447
        },
        "outputId": "a7b55947-75fc-4370-df90-3f5c03319110"
      },
      "execution_count": null,
      "outputs": [
        {
          "output_type": "execute_result",
          "data": {
            "text/plain": [
              "<Axes: >"
            ]
          },
          "metadata": {},
          "execution_count": 51
        },
        {
          "output_type": "display_data",
          "data": {
            "text/plain": [
              "<Figure size 640x480 with 2 Axes>"
            ],
            "image/png": "[encoded data removed]"
          },
          "metadata": {}
        }
      ]
    },
    {
      "cell_type": "markdown",
      "source": [
        "# Summary"
      ],
      "metadata": {
        "id": "1Nzn0tXb8LZP"
      }
    },
    {
      "cell_type": "code",
      "source": [
        "classifiers = ['GaussianNB','Logistic Regression', 'SVM', 'Random Forest', 'KNN', 'XGBoost', 'CNN+LSTM']\n",
        "colors = ['yellow', 'blue', 'orange', 'green', 'red', 'purple', 'black']\n",
        "\n",
        "#metric variables\n",
        "accuracy_scores = [nb_accuracy, lr_accuracy, svm_accuracy, rf_accuracy, knn_accuracy, xgb_accuracy, cnn_accuracy]\n",
        "precision_scores = [nb_precision, lr_precision, svm_precision, rf_precision, knn_precision, xgb_precision, cnn_precision]\n",
        "recall_scores = [nb_recall, lr_recall, svm_recall, rf_recall, knn_recall, xgb_recall, cnn_recall]\n",
        "f1_scores = [nb_f1, lr_f1, svm_f1, rf_f1, knn_f1, xgb_f1, cnn_f1]\n",
        "\n",
        "metrics = ['Accuracy', 'Precision', 'Recall', 'F1 Score']\n",
        "\n",
        "# Define the data for each metric\n",
        "data = [accuracy_scores, precision_scores, recall_scores, f1_scores]\n",
        "\n",
        "fig, ax = plt.subplots(figsize=(10, 6))\n",
        "\n",
        "x = np.arange(len(metrics))\n",
        "\n",
        "# Set the width of each bar\n",
        "width = 0.10\n",
        "\n",
        "#each classifier and plot bars\n",
        "for i, classifier in enumerate(classifiers):\n",
        "    ax.bar(x + i*width, [d[i] for d in data], width, label=classifier, color=colors[i])\n",
        "\n",
        "#labels, title, and legend\n",
        "ax.set_xlabel('Metrics')\n",
        "ax.set_ylabel('Scores')\n",
        "ax.set_title('Performance Metrics Comparison for Different Classifiers')\n",
        "ax.set_xticks(x + 2.5*width)\n",
        "ax.set_xticklabels(metrics)\n",
        "ax.legend()\n",
        "\n",
        "# Show the plot\n",
        "plt.show()"
      ],
      "metadata": {
        "id": "FZzGdmt7760z",
        "colab": {
          "base_uri": "https://localhost:8080/",
          "height": 564
        },
        "outputId": "b864aa9f-62b1-4898-f8af-adcbe6becfcc"
      },
      "execution_count": null,
      "outputs": [
        {
          "output_type": "display_data",
          "data": {
            "text/plain": [
              "<Figure size 1000x600 with 1 Axes>"
            ],
            "image/png": "[encoded data removed]"
          },
          "metadata": {}
        }
      ]
    },
    {
      "cell_type": "code",
      "source": [
        "classifiers = ['GaussianNB','Logistic Regression', 'SVM', 'Random Forest', 'KNN', 'XGBoost', 'CNN+LSTM']\n",
        "metrics = ['Accuracy', 'Precision', 'Recall', 'F1-Score']\n",
        "\n",
        "# metric scores\n",
        "accuracy_scores = [nb_accuracy, lr_accuracy, svm_accuracy, rf_accuracy, knn_accuracy, xgb_accuracy, cnn_accuracy]\n",
        "precision_scores = [nb_precision, lr_precision, svm_precision, rf_precision, knn_precision, xgb_precision, cnn_precision]\n",
        "recall_scores = [nb_recall, lr_recall, svm_recall, rf_recall, knn_recall, xgb_recall, cnn_recall]\n",
        "f1_scores = [nb_f1, lr_f1, svm_f1, rf_f1, knn_f1, xgb_f1, cnn_f1]\n",
        "\n",
        "#dictionary to store metric\n",
        "metric_scores = {\n",
        "    'Accuracy': accuracy_scores,\n",
        "    'Precision': precision_scores,\n",
        "    'Recall': recall_scores,\n",
        "    'F1-Score': f1_scores\n",
        "}\n",
        "\n",
        "#DataFrame from the dictionary\n",
        "metrics = pd.DataFrame(metric_scores, index=classifiers)\n",
        "\n",
        "#heatmap\n",
        "plt.figure(figsize=(10, 6))\n",
        "sns.set(font_scale=1.2)\n",
        "sns.heatmap(metrics, annot=True, cmap='YlGnBu', fmt='.4f')\n",
        "plt.title(\"Model Evaluation Metrics Heatmap\")\n",
        "plt.xticks(rotation=45)\n",
        "plt.tight_layout()\n",
        "\n",
        "plt.show()"
      ],
      "metadata": {
        "id": "CSg_VMPN79Gi",
        "colab": {
          "base_uri": "https://localhost:8080/",
          "height": 593
        },
        "outputId": "f8f65519-89cf-4c09-d4d6-0058fd71f6a9"
      },
      "execution_count": null,
      "outputs": [
        {
          "output_type": "display_data",
          "data": {
            "text/plain": [
              "<Figure size 1000x600 with 2 Axes>"
            ],
            "image/png": "[encoded data removed]"
          },
          "metadata": {}
        }
      ]
    },
    {
      "cell_type": "code",
      "source": [],
      "metadata": {
        "id": "w8SYitC38KKa"
      },
      "execution_count": null,
      "outputs": []
    }
  ]
}